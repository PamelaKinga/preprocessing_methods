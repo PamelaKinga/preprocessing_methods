{
  "nbformat": 4,
  "nbformat_minor": 0,
  "metadata": {
    "colab": {
      "provenance": [],
      "collapsed_sections": [
        "e7a4gfAMHIro",
        "skNFjknteIzN",
        "K2Tkt0fxeUBK",
        "STSegC-ueZpC",
        "KLEI6r49Zdf8",
        "0zWm0ug2C8P3",
        "c5GlsZSWDPWJ",
        "9ddoFAH3tn9C"
      ],
      "toc_visible": true,
      "mount_file_id": "1iOTD9PhFGvBgaJ5WKMMuNY-x6VMIH63a",
      "authorship_tag": "ABX9TyO1ffOL4HI9NhtGQu963jF2",
      "include_colab_link": true
    },
    "kernelspec": {
      "name": "python3",
      "display_name": "Python 3"
    },
    "language_info": {
      "name": "python"
    }
  },
  "cells": [
    {
      "cell_type": "markdown",
      "metadata": {
        "id": "view-in-github",
        "colab_type": "text"
      },
      "source": [
        "<a href=\"https://colab.research.google.com/github/PamelaKinga/preprocessing_methods/blob/main/Encoding_Techniques.ipynb\" target=\"_parent\"><img src=\"https://colab.research.google.com/assets/colab-badge.svg\" alt=\"Open In Colab\"/></a>"
      ]
    },
    {
      "cell_type": "markdown",
      "source": [
        "***In progress.*** 🔜 "
      ],
      "metadata": {
        "id": "ny_8PQ7LAMbq"
      }
    },
    {
      "cell_type": "markdown",
      "source": [
        "# Pre-Steps"
      ],
      "metadata": {
        "id": "e7a4gfAMHIro"
      }
    },
    {
      "cell_type": "markdown",
      "source": [
        "## Connect to Gdrive & Kaggle"
      ],
      "metadata": {
        "id": "skNFjknteIzN"
      }
    },
    {
      "cell_type": "code",
      "source": [
        "# First mount Gdrive to Colab for these steps to work\n",
        "! pip install kaggle\n",
        "! mkdir ~/.kaggle\n",
        "! cp /content/drive/MyDrive/kaggle.json ~/.kaggle/kaggle.json"
      ],
      "metadata": {
        "colab": {
          "base_uri": "https://localhost:8080/"
        },
        "id": "XJHGmeCiHOw7",
        "outputId": "d5de4ec6-9de4-436b-a225-fe068876d78c"
      },
      "execution_count": 14,
      "outputs": [
        {
          "output_type": "stream",
          "name": "stdout",
          "text": [
            "Looking in indexes: https://pypi.org/simple, https://us-python.pkg.dev/colab-wheels/public/simple/\n",
            "Requirement already satisfied: kaggle in /usr/local/lib/python3.8/dist-packages (1.5.12)\n",
            "Requirement already satisfied: urllib3 in /usr/local/lib/python3.8/dist-packages (from kaggle) (1.24.3)\n",
            "Requirement already satisfied: six>=1.10 in /usr/local/lib/python3.8/dist-packages (from kaggle) (1.15.0)\n",
            "Requirement already satisfied: certifi in /usr/local/lib/python3.8/dist-packages (from kaggle) (2022.9.24)\n",
            "Requirement already satisfied: tqdm in /usr/local/lib/python3.8/dist-packages (from kaggle) (4.64.1)\n",
            "Requirement already satisfied: python-dateutil in /usr/local/lib/python3.8/dist-packages (from kaggle) (2.8.2)\n",
            "Requirement already satisfied: python-slugify in /usr/local/lib/python3.8/dist-packages (from kaggle) (7.0.0)\n",
            "Requirement already satisfied: requests in /usr/local/lib/python3.8/dist-packages (from kaggle) (2.23.0)\n",
            "Requirement already satisfied: text-unidecode>=1.3 in /usr/local/lib/python3.8/dist-packages (from python-slugify->kaggle) (1.3)\n",
            "Requirement already satisfied: idna<3,>=2.5 in /usr/local/lib/python3.8/dist-packages (from requests->kaggle) (2.10)\n",
            "Requirement already satisfied: chardet<4,>=3.0.2 in /usr/local/lib/python3.8/dist-packages (from requests->kaggle) (3.0.4)\n",
            "mkdir: cannot create directory ‘/root/.kaggle’: File exists\n"
          ]
        }
      ]
    },
    {
      "cell_type": "markdown",
      "source": [
        "## Download data"
      ],
      "metadata": {
        "id": "K2Tkt0fxeUBK"
      }
    },
    {
      "cell_type": "code",
      "source": [
        "# Connect to a data source for examples\n",
        "! kaggle datasets download -d crawford/80-cereals "
      ],
      "metadata": {
        "colab": {
          "base_uri": "https://localhost:8080/"
        },
        "id": "k4JGSSyteTjs",
        "outputId": "16fc549a-1944-4eaf-8bf0-f17d56003d1c"
      },
      "execution_count": 15,
      "outputs": [
        {
          "output_type": "stream",
          "name": "stdout",
          "text": [
            "80-cereals.zip: Skipping, found more recently modified local copy (use --force to force download)\n"
          ]
        }
      ]
    },
    {
      "cell_type": "markdown",
      "source": [
        "[Kaggle's 80 cereals data set](https://www.kaggle.com/datasets/crawford/80-cereals)"
      ],
      "metadata": {
        "id": "RJnOIr7nH9hJ"
      }
    },
    {
      "cell_type": "code",
      "source": [
        "! unzip 80-cereals.zip"
      ],
      "metadata": {
        "colab": {
          "base_uri": "https://localhost:8080/"
        },
        "id": "qJJSXQ_QHfsI",
        "outputId": "9ad67a33-0a57-4146-c913-18e87f721f7d"
      },
      "execution_count": 16,
      "outputs": [
        {
          "output_type": "stream",
          "name": "stdout",
          "text": [
            "Archive:  80-cereals.zip\n",
            "replace cereal.csv? [y]es, [n]o, [A]ll, [N]one, [r]ename: n\n"
          ]
        }
      ]
    },
    {
      "cell_type": "markdown",
      "source": [
        "## Import libraries"
      ],
      "metadata": {
        "id": "STSegC-ueZpC"
      }
    },
    {
      "cell_type": "code",
      "source": [
        "import pandas as pd\n",
        "import numpy as np\n",
        "import matplotlib.pyplot as plt"
      ],
      "metadata": {
        "id": "4EbfVQZ2IGsU"
      },
      "execution_count": 17,
      "outputs": []
    },
    {
      "cell_type": "code",
      "source": [
        "df=pd.read_csv('cereal.csv')"
      ],
      "metadata": {
        "id": "rO9jxKGlIRnc"
      },
      "execution_count": 18,
      "outputs": []
    },
    {
      "cell_type": "code",
      "source": [
        "df.shape # 77 rows, 16 columns"
      ],
      "metadata": {
        "colab": {
          "base_uri": "https://localhost:8080/"
        },
        "id": "TBhzmxFNI-Im",
        "outputId": "79fba170-7893-4f68-91a6-ccdc20fee624"
      },
      "execution_count": 19,
      "outputs": [
        {
          "output_type": "execute_result",
          "data": {
            "text/plain": [
              "(77, 16)"
            ]
          },
          "metadata": {},
          "execution_count": 19
        }
      ]
    },
    {
      "cell_type": "code",
      "source": [
        "df.info()"
      ],
      "metadata": {
        "colab": {
          "base_uri": "https://localhost:8080/"
        },
        "id": "_cCk6ijQJGCs",
        "outputId": "7277d4d0-2555-4a58-f5e1-ff5998689f32"
      },
      "execution_count": 20,
      "outputs": [
        {
          "output_type": "stream",
          "name": "stdout",
          "text": [
            "<class 'pandas.core.frame.DataFrame'>\n",
            "RangeIndex: 77 entries, 0 to 76\n",
            "Data columns (total 16 columns):\n",
            " #   Column    Non-Null Count  Dtype  \n",
            "---  ------    --------------  -----  \n",
            " 0   name      77 non-null     object \n",
            " 1   mfr       77 non-null     object \n",
            " 2   type      77 non-null     object \n",
            " 3   calories  77 non-null     int64  \n",
            " 4   protein   77 non-null     int64  \n",
            " 5   fat       77 non-null     int64  \n",
            " 6   sodium    77 non-null     int64  \n",
            " 7   fiber     77 non-null     float64\n",
            " 8   carbo     77 non-null     float64\n",
            " 9   sugars    77 non-null     int64  \n",
            " 10  potass    77 non-null     int64  \n",
            " 11  vitamins  77 non-null     int64  \n",
            " 12  shelf     77 non-null     int64  \n",
            " 13  weight    77 non-null     float64\n",
            " 14  cups      77 non-null     float64\n",
            " 15  rating    77 non-null     float64\n",
            "dtypes: float64(5), int64(8), object(3)\n",
            "memory usage: 9.8+ KB\n"
          ]
        }
      ]
    },
    {
      "cell_type": "code",
      "source": [
        "df.head(5)"
      ],
      "metadata": {
        "colab": {
          "base_uri": "https://localhost:8080/",
          "height": 206
        },
        "id": "qVi7M9NSI7a3",
        "outputId": "7183d774-7c7e-415e-a9e8-b19ed7f5ea81"
      },
      "execution_count": 21,
      "outputs": [
        {
          "output_type": "execute_result",
          "data": {
            "text/plain": [
              "                        name mfr type  calories  protein  fat  sodium  fiber  \\\n",
              "0                  100% Bran   N    C        70        4    1     130   10.0   \n",
              "1          100% Natural Bran   Q    C       120        3    5      15    2.0   \n",
              "2                   All-Bran   K    C        70        4    1     260    9.0   \n",
              "3  All-Bran with Extra Fiber   K    C        50        4    0     140   14.0   \n",
              "4             Almond Delight   R    C       110        2    2     200    1.0   \n",
              "\n",
              "   carbo  sugars  potass  vitamins  shelf  weight  cups     rating  \n",
              "0    5.0       6     280        25      3     1.0  0.33  68.402973  \n",
              "1    8.0       8     135         0      3     1.0  1.00  33.983679  \n",
              "2    7.0       5     320        25      3     1.0  0.33  59.425505  \n",
              "3    8.0       0     330        25      3     1.0  0.50  93.704912  \n",
              "4   14.0       8      -1        25      3     1.0  0.75  34.384843  "
            ],
            "text/html": [
              "\n",
              "  <div id=\"df-b5b71be2-d115-41e0-8ecc-b35ab3a2e8a0\">\n",
              "    <div class=\"colab-df-container\">\n",
              "      <div>\n",
              "<style scoped>\n",
              "    .dataframe tbody tr th:only-of-type {\n",
              "        vertical-align: middle;\n",
              "    }\n",
              "\n",
              "    .dataframe tbody tr th {\n",
              "        vertical-align: top;\n",
              "    }\n",
              "\n",
              "    .dataframe thead th {\n",
              "        text-align: right;\n",
              "    }\n",
              "</style>\n",
              "<table border=\"1\" class=\"dataframe\">\n",
              "  <thead>\n",
              "    <tr style=\"text-align: right;\">\n",
              "      <th></th>\n",
              "      <th>name</th>\n",
              "      <th>mfr</th>\n",
              "      <th>type</th>\n",
              "      <th>calories</th>\n",
              "      <th>protein</th>\n",
              "      <th>fat</th>\n",
              "      <th>sodium</th>\n",
              "      <th>fiber</th>\n",
              "      <th>carbo</th>\n",
              "      <th>sugars</th>\n",
              "      <th>potass</th>\n",
              "      <th>vitamins</th>\n",
              "      <th>shelf</th>\n",
              "      <th>weight</th>\n",
              "      <th>cups</th>\n",
              "      <th>rating</th>\n",
              "    </tr>\n",
              "  </thead>\n",
              "  <tbody>\n",
              "    <tr>\n",
              "      <th>0</th>\n",
              "      <td>100% Bran</td>\n",
              "      <td>N</td>\n",
              "      <td>C</td>\n",
              "      <td>70</td>\n",
              "      <td>4</td>\n",
              "      <td>1</td>\n",
              "      <td>130</td>\n",
              "      <td>10.0</td>\n",
              "      <td>5.0</td>\n",
              "      <td>6</td>\n",
              "      <td>280</td>\n",
              "      <td>25</td>\n",
              "      <td>3</td>\n",
              "      <td>1.0</td>\n",
              "      <td>0.33</td>\n",
              "      <td>68.402973</td>\n",
              "    </tr>\n",
              "    <tr>\n",
              "      <th>1</th>\n",
              "      <td>100% Natural Bran</td>\n",
              "      <td>Q</td>\n",
              "      <td>C</td>\n",
              "      <td>120</td>\n",
              "      <td>3</td>\n",
              "      <td>5</td>\n",
              "      <td>15</td>\n",
              "      <td>2.0</td>\n",
              "      <td>8.0</td>\n",
              "      <td>8</td>\n",
              "      <td>135</td>\n",
              "      <td>0</td>\n",
              "      <td>3</td>\n",
              "      <td>1.0</td>\n",
              "      <td>1.00</td>\n",
              "      <td>33.983679</td>\n",
              "    </tr>\n",
              "    <tr>\n",
              "      <th>2</th>\n",
              "      <td>All-Bran</td>\n",
              "      <td>K</td>\n",
              "      <td>C</td>\n",
              "      <td>70</td>\n",
              "      <td>4</td>\n",
              "      <td>1</td>\n",
              "      <td>260</td>\n",
              "      <td>9.0</td>\n",
              "      <td>7.0</td>\n",
              "      <td>5</td>\n",
              "      <td>320</td>\n",
              "      <td>25</td>\n",
              "      <td>3</td>\n",
              "      <td>1.0</td>\n",
              "      <td>0.33</td>\n",
              "      <td>59.425505</td>\n",
              "    </tr>\n",
              "    <tr>\n",
              "      <th>3</th>\n",
              "      <td>All-Bran with Extra Fiber</td>\n",
              "      <td>K</td>\n",
              "      <td>C</td>\n",
              "      <td>50</td>\n",
              "      <td>4</td>\n",
              "      <td>0</td>\n",
              "      <td>140</td>\n",
              "      <td>14.0</td>\n",
              "      <td>8.0</td>\n",
              "      <td>0</td>\n",
              "      <td>330</td>\n",
              "      <td>25</td>\n",
              "      <td>3</td>\n",
              "      <td>1.0</td>\n",
              "      <td>0.50</td>\n",
              "      <td>93.704912</td>\n",
              "    </tr>\n",
              "    <tr>\n",
              "      <th>4</th>\n",
              "      <td>Almond Delight</td>\n",
              "      <td>R</td>\n",
              "      <td>C</td>\n",
              "      <td>110</td>\n",
              "      <td>2</td>\n",
              "      <td>2</td>\n",
              "      <td>200</td>\n",
              "      <td>1.0</td>\n",
              "      <td>14.0</td>\n",
              "      <td>8</td>\n",
              "      <td>-1</td>\n",
              "      <td>25</td>\n",
              "      <td>3</td>\n",
              "      <td>1.0</td>\n",
              "      <td>0.75</td>\n",
              "      <td>34.384843</td>\n",
              "    </tr>\n",
              "  </tbody>\n",
              "</table>\n",
              "</div>\n",
              "      <button class=\"colab-df-convert\" onclick=\"convertToInteractive('df-b5b71be2-d115-41e0-8ecc-b35ab3a2e8a0')\"\n",
              "              title=\"Convert this dataframe to an interactive table.\"\n",
              "              style=\"display:none;\">\n",
              "        \n",
              "  <svg xmlns=\"http://www.w3.org/2000/svg\" height=\"24px\"viewBox=\"0 0 24 24\"\n",
              "       width=\"24px\">\n",
              "    <path d=\"M0 0h24v24H0V0z\" fill=\"none\"/>\n",
              "    <path d=\"M18.56 5.44l.94 2.06.94-2.06 2.06-.94-2.06-.94-.94-2.06-.94 2.06-2.06.94zm-11 1L8.5 8.5l.94-2.06 2.06-.94-2.06-.94L8.5 2.5l-.94 2.06-2.06.94zm10 10l.94 2.06.94-2.06 2.06-.94-2.06-.94-.94-2.06-.94 2.06-2.06.94z\"/><path d=\"M17.41 7.96l-1.37-1.37c-.4-.4-.92-.59-1.43-.59-.52 0-1.04.2-1.43.59L10.3 9.45l-7.72 7.72c-.78.78-.78 2.05 0 2.83L4 21.41c.39.39.9.59 1.41.59.51 0 1.02-.2 1.41-.59l7.78-7.78 2.81-2.81c.8-.78.8-2.07 0-2.86zM5.41 20L4 18.59l7.72-7.72 1.47 1.35L5.41 20z\"/>\n",
              "  </svg>\n",
              "      </button>\n",
              "      \n",
              "  <style>\n",
              "    .colab-df-container {\n",
              "      display:flex;\n",
              "      flex-wrap:wrap;\n",
              "      gap: 12px;\n",
              "    }\n",
              "\n",
              "    .colab-df-convert {\n",
              "      background-color: #E8F0FE;\n",
              "      border: none;\n",
              "      border-radius: 50%;\n",
              "      cursor: pointer;\n",
              "      display: none;\n",
              "      fill: #1967D2;\n",
              "      height: 32px;\n",
              "      padding: 0 0 0 0;\n",
              "      width: 32px;\n",
              "    }\n",
              "\n",
              "    .colab-df-convert:hover {\n",
              "      background-color: #E2EBFA;\n",
              "      box-shadow: 0px 1px 2px rgba(60, 64, 67, 0.3), 0px 1px 3px 1px rgba(60, 64, 67, 0.15);\n",
              "      fill: #174EA6;\n",
              "    }\n",
              "\n",
              "    [theme=dark] .colab-df-convert {\n",
              "      background-color: #3B4455;\n",
              "      fill: #D2E3FC;\n",
              "    }\n",
              "\n",
              "    [theme=dark] .colab-df-convert:hover {\n",
              "      background-color: #434B5C;\n",
              "      box-shadow: 0px 1px 3px 1px rgba(0, 0, 0, 0.15);\n",
              "      filter: drop-shadow(0px 1px 2px rgba(0, 0, 0, 0.3));\n",
              "      fill: #FFFFFF;\n",
              "    }\n",
              "  </style>\n",
              "\n",
              "      <script>\n",
              "        const buttonEl =\n",
              "          document.querySelector('#df-b5b71be2-d115-41e0-8ecc-b35ab3a2e8a0 button.colab-df-convert');\n",
              "        buttonEl.style.display =\n",
              "          google.colab.kernel.accessAllowed ? 'block' : 'none';\n",
              "\n",
              "        async function convertToInteractive(key) {\n",
              "          const element = document.querySelector('#df-b5b71be2-d115-41e0-8ecc-b35ab3a2e8a0');\n",
              "          const dataTable =\n",
              "            await google.colab.kernel.invokeFunction('convertToInteractive',\n",
              "                                                     [key], {});\n",
              "          if (!dataTable) return;\n",
              "\n",
              "          const docLinkHtml = 'Like what you see? Visit the ' +\n",
              "            '<a target=\"_blank\" href=https://colab.research.google.com/notebooks/data_table.ipynb>data table notebook</a>'\n",
              "            + ' to learn more about interactive tables.';\n",
              "          element.innerHTML = '';\n",
              "          dataTable['output_type'] = 'display_data';\n",
              "          await google.colab.output.renderOutput(dataTable, element);\n",
              "          const docLink = document.createElement('div');\n",
              "          docLink.innerHTML = docLinkHtml;\n",
              "          element.appendChild(docLink);\n",
              "        }\n",
              "      </script>\n",
              "    </div>\n",
              "  </div>\n",
              "  "
            ]
          },
          "metadata": {},
          "execution_count": 21
        }
      ]
    },
    {
      "cell_type": "markdown",
      "source": [
        "# Introduction"
      ],
      "metadata": {
        "id": "_04rx5MIBPuU"
      }
    },
    {
      "cell_type": "markdown",
      "source": [
        "## Why it matters"
      ],
      "metadata": {
        "id": "ESEAkdkkd0We"
      }
    },
    {
      "cell_type": "markdown",
      "source": [
        "Various encoding techniques are applied to categorical variables in data sets. This is important so that the mathematical procedures that make up the majority of machine learning algorithms can be effectively applied."
      ],
      "metadata": {
        "id": "goGyObdKd3y1"
      }
    },
    {
      "cell_type": "markdown",
      "source": [
        "## Types of categorical features"
      ],
      "metadata": {
        "id": "BaVRBumwd7vL"
      }
    },
    {
      "cell_type": "markdown",
      "source": [
        "Understanding the types of categorical variables as this determines the techniques or methods applied: \n",
        "1.   Nominal\n",
        "2.   Ordinal\n",
        "\n",
        "**Nominal variables:** A nominal variable is a type of variable that is used to name, label or categorize particular attributes that are being measured. Examples (Gender = {F,M,Other}, Country = {Canada, Austria, etc...}, Color = {Blue, Red, Green, ...})\n",
        "\n",
        "**Ordinal variables:** Ordinal data is a categorical, statistical data type where the variables have natural, ordered categories and the distances between the categories are not known. Examples (Education = {High School, Post-Secondary, Masters, PhD}, Level = {Bronze, Silver, Gold, Platinum})\n"
      ],
      "metadata": {
        "id": "w9s6ZKZKBhDj"
      }
    },
    {
      "cell_type": "markdown",
      "source": [
        "## Example Dataset"
      ],
      "metadata": {
        "id": "KLEI6r49Zdf8"
      }
    },
    {
      "cell_type": "markdown",
      "source": [
        "Example from 80 Cereals Data set\n",
        "\n",
        "\n",
        "```\n",
        "# df.head()\n",
        "```\n",
        "\n"
      ],
      "metadata": {
        "id": "EEqK1yGxLT2Q"
      }
    },
    {
      "cell_type": "markdown",
      "source": [
        "![Screen Shot 2022-12-01 at 11.26.17 AM.png](data:image/png;base64,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)"
      ],
      "metadata": {
        "id": "a8_jReIgLOxH"
      }
    },
    {
      "cell_type": "code",
      "source": [
        "# Let's see how many labels exist in the categorical variables\n",
        "categories = df[[\"mfr\", \"type\", \"shelf\"]] # create a dataframe with just the categorical variables"
      ],
      "metadata": {
        "id": "0vBG6oRMWCnp"
      },
      "execution_count": 26,
      "outputs": []
    },
    {
      "cell_type": "code",
      "source": [
        "for col in categories.columns:\n",
        "  print(col,': ', len(categories[col].unique()), 'labels')"
      ],
      "metadata": {
        "colab": {
          "base_uri": "https://localhost:8080/"
        },
        "id": "VgvPQJZzWj3V",
        "outputId": "62f7ea0c-bb34-4b71-d22c-ca33c2d5ccd7"
      },
      "execution_count": 27,
      "outputs": [
        {
          "output_type": "stream",
          "name": "stdout",
          "text": [
            "mfr :  7 labels\n",
            "type :  2 labels\n",
            "shelf :  3 labels\n"
          ]
        }
      ]
    },
    {
      "cell_type": "code",
      "source": [
        "# Create a df with just the nominal features\n",
        "nominal = df[[\"mfr\", \"type\"]] # create a dataframe with just the categorical variables"
      ],
      "metadata": {
        "id": "RbVwaYO3XiB0"
      },
      "execution_count": 28,
      "outputs": []
    },
    {
      "cell_type": "code",
      "source": [
        "# Let's see how many columns we obtain after one hot encoding these variables\n",
        "pd.get_dummies(nominal, drop_first=True).shape"
      ],
      "metadata": {
        "colab": {
          "base_uri": "https://localhost:8080/"
        },
        "id": "f1Dx-cpGXvG_",
        "outputId": "f8e6d646-e0ef-4f8e-ecbf-ffcb6be126a3"
      },
      "execution_count": 29,
      "outputs": [
        {
          "output_type": "execute_result",
          "data": {
            "text/plain": [
              "(77, 7)"
            ]
          },
          "metadata": {},
          "execution_count": 29
        }
      ]
    },
    {
      "cell_type": "markdown",
      "source": [
        "Not terrible, from 2 nominal categorical features we increase to 7 columns total in the feature space, after one hot encoding\n",
        "\n"
      ],
      "metadata": {
        "id": "1pRaLbSzXUJK"
      }
    },
    {
      "cell_type": "markdown",
      "source": [
        "## Nominal encoding techniques"
      ],
      "metadata": {
        "id": "0zWm0ug2C8P3"
      }
    },
    {
      "cell_type": "markdown",
      "source": [
        "There are three types of nominal encoding techniques\n",
        "\n",
        "\n",
        "1.   One hot encoding\n",
        "2.   One hot encoding with many categorical variables\n",
        "3.   Mean encoding\n",
        "\n",
        "\n"
      ],
      "metadata": {
        "id": "nsGfjmIIC-8L"
      }
    },
    {
      "cell_type": "markdown",
      "source": [
        "## Ordinal encoding techniques\n"
      ],
      "metadata": {
        "id": "c5GlsZSWDPWJ"
      }
    },
    {
      "cell_type": "markdown",
      "source": [
        "There are three types of ordinal encoding techniques\n",
        "\n",
        "1.   Label encoding\n",
        "2.   Target guided ordinal encoding\n"
      ],
      "metadata": {
        "id": "oTm8SKG7DVf2"
      }
    },
    {
      "cell_type": "markdown",
      "source": [],
      "metadata": {
        "id": "pyO36-XnAIOS"
      }
    },
    {
      "cell_type": "markdown",
      "source": [
        "# Applied Techniques"
      ],
      "metadata": {
        "id": "-KZWl_RRjjkP"
      }
    },
    {
      "cell_type": "markdown",
      "source": [
        "## Nominal: one hot encoding"
      ],
      "metadata": {
        "id": "KDPmzxijuQYy"
      }
    },
    {
      "cell_type": "markdown",
      "source": [
        "**Con:** If a variable has a lot of categories, then a one-hot encoding scheme will produce many columns, which can cause memory issues."
      ],
      "metadata": {
        "id": "rm8tv00guc3C"
      }
    },
    {
      "cell_type": "markdown",
      "source": [
        "## Nominal: one hot encoding variables with many categories"
      ],
      "metadata": {
        "id": "H6WATZzYjrCs"
      }
    },
    {
      "cell_type": "markdown",
      "source": [
        "One hot encoding multiple columns can be problematic. This is because it causes an increase in the dimensionality of the dataset.\n",
        "High dimensional models can lead to problems like parallelism and multicollinearity."
      ],
      "metadata": {
        "id": "tHub6dDJkv7G"
      }
    },
    {
      "cell_type": "markdown",
      "source": [
        "### Data"
      ],
      "metadata": {
        "id": "O0Uqjgq8tlSF"
      }
    },
    {
      "cell_type": "markdown",
      "source": [
        "Data from Mercedez Bendz Kaggle must be manually downloaded [here](https://www.kaggle.com/competitions/mercedes-benz-greener-manufacturing/data) and dropped into Google Drive to be read below\n",
        "\n",
        "The Mercedes Benz data set is a good example of multiple features with categorical data having many labels"
      ],
      "metadata": {
        "id": "VBn2dYC7qnlf"
      }
    },
    {
      "cell_type": "code",
      "source": [
        "! unzip mercedes-benz-greener-manufacturing.zip"
      ],
      "metadata": {
        "colab": {
          "base_uri": "https://localhost:8080/"
        },
        "id": "422XWLssnsxo",
        "outputId": "f0af412b-8541-411d-b26a-214381a88098"
      },
      "execution_count": 33,
      "outputs": [
        {
          "output_type": "stream",
          "name": "stdout",
          "text": [
            "Archive:  mercedes-benz-greener-manufacturing.zip\n",
            "  inflating: sample_submission.csv.zip  \n",
            "  inflating: test.csv.zip            \n",
            "  inflating: train.csv.zip           \n"
          ]
        }
      ]
    },
    {
      "cell_type": "code",
      "source": [
        "benz_df = pd.read_csv('train.csv.zip')"
      ],
      "metadata": {
        "id": "UzwEEnDMjlWq"
      },
      "execution_count": 34,
      "outputs": []
    },
    {
      "cell_type": "markdown",
      "source": [
        "### EDA"
      ],
      "metadata": {
        "id": "9ddoFAH3tn9C"
      }
    },
    {
      "cell_type": "markdown",
      "source": [
        "Exploratory Data Analysis"
      ],
      "metadata": {
        "id": "D4ELH8qyu6vL"
      }
    },
    {
      "cell_type": "code",
      "source": [
        "#Review the training data\n",
        "benz_df.shape # 4209 rows, 378 columns"
      ],
      "metadata": {
        "colab": {
          "base_uri": "https://localhost:8080/"
        },
        "id": "_J5Ly0V_n0ET",
        "outputId": "3badefda-e162-4d25-d90e-183fb275d44c"
      },
      "execution_count": 40,
      "outputs": [
        {
          "output_type": "execute_result",
          "data": {
            "text/plain": [
              "(4209, 378)"
            ]
          },
          "metadata": {},
          "execution_count": 40
        }
      ]
    },
    {
      "cell_type": "code",
      "source": [
        "# There are too many columns to run the df.dtypes function, instead filter to show all data types that are object\n",
        "benz_df.dtypes[benz_df.dtypes == 'object'] # 8 columns"
      ],
      "metadata": {
        "colab": {
          "base_uri": "https://localhost:8080/"
        },
        "id": "RxqOUOz-tTdH",
        "outputId": "4d5e0d94-3eed-48db-c361-26de93c9f15d"
      },
      "execution_count": 41,
      "outputs": [
        {
          "output_type": "execute_result",
          "data": {
            "text/plain": [
              "X0    object\n",
              "X1    object\n",
              "X2    object\n",
              "X3    object\n",
              "X4    object\n",
              "X5    object\n",
              "X6    object\n",
              "X8    object\n",
              "dtype: object"
            ]
          },
          "metadata": {},
          "execution_count": 41
        }
      ]
    },
    {
      "cell_type": "markdown",
      "source": [
        "Unfortunately, these features are anonymized. Documentation uploaded by Mercedes Benz does not contain meta data describing each feature. What this means is that intuition or domain knowledge will not help us to understand or explore the features, adding to feature selection. A positive: this could be seen as totally unbiased."
      ],
      "metadata": {
        "id": "Hywd6k2HvIgs"
      }
    },
    {
      "cell_type": "code",
      "source": [
        "# Let's see how many labels exist in the categorical variables\n",
        "objects = benz_df[[\"X0\", \"X1\", \"X2\", \"X3\", \"X4\", \"X5\", \"X6\", \"X8\"]] # create a dataframe with just the categorical variables\n",
        "\n",
        "for col in objects.columns:\n",
        "  print(col,': ', len(objects[col].unique()), 'labels')"
      ],
      "metadata": {
        "colab": {
          "base_uri": "https://localhost:8080/"
        },
        "id": "J7XGY280rAcA",
        "outputId": "43f3992d-119e-4ee2-e2d1-26e569bcaf28"
      },
      "execution_count": 42,
      "outputs": [
        {
          "output_type": "stream",
          "name": "stdout",
          "text": [
            "X0 :  47 labels\n",
            "X1 :  27 labels\n",
            "X2 :  44 labels\n",
            "X3 :  7 labels\n",
            "X4 :  4 labels\n",
            "X5 :  29 labels\n",
            "X6 :  12 labels\n",
            "X8 :  25 labels\n"
          ]
        }
      ]
    },
    {
      "cell_type": "code",
      "source": [
        "# Let's see how many columns we obtain after one hot encoding these variables\n",
        "pd.get_dummies(objects, drop_first=True).shape # 187 columns"
      ],
      "metadata": {
        "colab": {
          "base_uri": "https://localhost:8080/"
        },
        "id": "yLgwkvNyuW_5",
        "outputId": "9ebd6bd3-34f2-41a1-b3c7-17fea9393ae7"
      },
      "execution_count": 43,
      "outputs": [
        {
          "output_type": "execute_result",
          "data": {
            "text/plain": [
              "(4209, 187)"
            ]
          },
          "metadata": {},
          "execution_count": 43
        }
      ]
    },
    {
      "cell_type": "code",
      "source": [
        "#Peak at the categorical features\n",
        "objects.head()"
      ],
      "metadata": {
        "colab": {
          "base_uri": "https://localhost:8080/",
          "height": 206
        },
        "id": "eSWOJooDuuZ-",
        "outputId": "869fa684-55d1-42fd-ea43-af32de9863f1"
      },
      "execution_count": 44,
      "outputs": [
        {
          "output_type": "execute_result",
          "data": {
            "text/plain": [
              "   X0 X1  X2 X3 X4 X5 X6 X8\n",
              "0   k  v  at  a  d  u  j  o\n",
              "1   k  t  av  e  d  y  l  o\n",
              "2  az  w   n  c  d  x  j  x\n",
              "3  az  t   n  f  d  x  l  e\n",
              "4  az  v   n  f  d  h  d  n"
            ],
            "text/html": [
              "\n",
              "  <div id=\"df-7e5fbe49-340b-4f0b-b124-ee21600a990a\">\n",
              "    <div class=\"colab-df-container\">\n",
              "      <div>\n",
              "<style scoped>\n",
              "    .dataframe tbody tr th:only-of-type {\n",
              "        vertical-align: middle;\n",
              "    }\n",
              "\n",
              "    .dataframe tbody tr th {\n",
              "        vertical-align: top;\n",
              "    }\n",
              "\n",
              "    .dataframe thead th {\n",
              "        text-align: right;\n",
              "    }\n",
              "</style>\n",
              "<table border=\"1\" class=\"dataframe\">\n",
              "  <thead>\n",
              "    <tr style=\"text-align: right;\">\n",
              "      <th></th>\n",
              "      <th>X0</th>\n",
              "      <th>X1</th>\n",
              "      <th>X2</th>\n",
              "      <th>X3</th>\n",
              "      <th>X4</th>\n",
              "      <th>X5</th>\n",
              "      <th>X6</th>\n",
              "      <th>X8</th>\n",
              "    </tr>\n",
              "  </thead>\n",
              "  <tbody>\n",
              "    <tr>\n",
              "      <th>0</th>\n",
              "      <td>k</td>\n",
              "      <td>v</td>\n",
              "      <td>at</td>\n",
              "      <td>a</td>\n",
              "      <td>d</td>\n",
              "      <td>u</td>\n",
              "      <td>j</td>\n",
              "      <td>o</td>\n",
              "    </tr>\n",
              "    <tr>\n",
              "      <th>1</th>\n",
              "      <td>k</td>\n",
              "      <td>t</td>\n",
              "      <td>av</td>\n",
              "      <td>e</td>\n",
              "      <td>d</td>\n",
              "      <td>y</td>\n",
              "      <td>l</td>\n",
              "      <td>o</td>\n",
              "    </tr>\n",
              "    <tr>\n",
              "      <th>2</th>\n",
              "      <td>az</td>\n",
              "      <td>w</td>\n",
              "      <td>n</td>\n",
              "      <td>c</td>\n",
              "      <td>d</td>\n",
              "      <td>x</td>\n",
              "      <td>j</td>\n",
              "      <td>x</td>\n",
              "    </tr>\n",
              "    <tr>\n",
              "      <th>3</th>\n",
              "      <td>az</td>\n",
              "      <td>t</td>\n",
              "      <td>n</td>\n",
              "      <td>f</td>\n",
              "      <td>d</td>\n",
              "      <td>x</td>\n",
              "      <td>l</td>\n",
              "      <td>e</td>\n",
              "    </tr>\n",
              "    <tr>\n",
              "      <th>4</th>\n",
              "      <td>az</td>\n",
              "      <td>v</td>\n",
              "      <td>n</td>\n",
              "      <td>f</td>\n",
              "      <td>d</td>\n",
              "      <td>h</td>\n",
              "      <td>d</td>\n",
              "      <td>n</td>\n",
              "    </tr>\n",
              "  </tbody>\n",
              "</table>\n",
              "</div>\n",
              "      <button class=\"colab-df-convert\" onclick=\"convertToInteractive('df-7e5fbe49-340b-4f0b-b124-ee21600a990a')\"\n",
              "              title=\"Convert this dataframe to an interactive table.\"\n",
              "              style=\"display:none;\">\n",
              "        \n",
              "  <svg xmlns=\"http://www.w3.org/2000/svg\" height=\"24px\"viewBox=\"0 0 24 24\"\n",
              "       width=\"24px\">\n",
              "    <path d=\"M0 0h24v24H0V0z\" fill=\"none\"/>\n",
              "    <path d=\"M18.56 5.44l.94 2.06.94-2.06 2.06-.94-2.06-.94-.94-2.06-.94 2.06-2.06.94zm-11 1L8.5 8.5l.94-2.06 2.06-.94-2.06-.94L8.5 2.5l-.94 2.06-2.06.94zm10 10l.94 2.06.94-2.06 2.06-.94-2.06-.94-.94-2.06-.94 2.06-2.06.94z\"/><path d=\"M17.41 7.96l-1.37-1.37c-.4-.4-.92-.59-1.43-.59-.52 0-1.04.2-1.43.59L10.3 9.45l-7.72 7.72c-.78.78-.78 2.05 0 2.83L4 21.41c.39.39.9.59 1.41.59.51 0 1.02-.2 1.41-.59l7.78-7.78 2.81-2.81c.8-.78.8-2.07 0-2.86zM5.41 20L4 18.59l7.72-7.72 1.47 1.35L5.41 20z\"/>\n",
              "  </svg>\n",
              "      </button>\n",
              "      \n",
              "  <style>\n",
              "    .colab-df-container {\n",
              "      display:flex;\n",
              "      flex-wrap:wrap;\n",
              "      gap: 12px;\n",
              "    }\n",
              "\n",
              "    .colab-df-convert {\n",
              "      background-color: #E8F0FE;\n",
              "      border: none;\n",
              "      border-radius: 50%;\n",
              "      cursor: pointer;\n",
              "      display: none;\n",
              "      fill: #1967D2;\n",
              "      height: 32px;\n",
              "      padding: 0 0 0 0;\n",
              "      width: 32px;\n",
              "    }\n",
              "\n",
              "    .colab-df-convert:hover {\n",
              "      background-color: #E2EBFA;\n",
              "      box-shadow: 0px 1px 2px rgba(60, 64, 67, 0.3), 0px 1px 3px 1px rgba(60, 64, 67, 0.15);\n",
              "      fill: #174EA6;\n",
              "    }\n",
              "\n",
              "    [theme=dark] .colab-df-convert {\n",
              "      background-color: #3B4455;\n",
              "      fill: #D2E3FC;\n",
              "    }\n",
              "\n",
              "    [theme=dark] .colab-df-convert:hover {\n",
              "      background-color: #434B5C;\n",
              "      box-shadow: 0px 1px 3px 1px rgba(0, 0, 0, 0.15);\n",
              "      filter: drop-shadow(0px 1px 2px rgba(0, 0, 0, 0.3));\n",
              "      fill: #FFFFFF;\n",
              "    }\n",
              "  </style>\n",
              "\n",
              "      <script>\n",
              "        const buttonEl =\n",
              "          document.querySelector('#df-7e5fbe49-340b-4f0b-b124-ee21600a990a button.colab-df-convert');\n",
              "        buttonEl.style.display =\n",
              "          google.colab.kernel.accessAllowed ? 'block' : 'none';\n",
              "\n",
              "        async function convertToInteractive(key) {\n",
              "          const element = document.querySelector('#df-7e5fbe49-340b-4f0b-b124-ee21600a990a');\n",
              "          const dataTable =\n",
              "            await google.colab.kernel.invokeFunction('convertToInteractive',\n",
              "                                                     [key], {});\n",
              "          if (!dataTable) return;\n",
              "\n",
              "          const docLinkHtml = 'Like what you see? Visit the ' +\n",
              "            '<a target=\"_blank\" href=https://colab.research.google.com/notebooks/data_table.ipynb>data table notebook</a>'\n",
              "            + ' to learn more about interactive tables.';\n",
              "          element.innerHTML = '';\n",
              "          dataTable['output_type'] = 'display_data';\n",
              "          await google.colab.output.renderOutput(dataTable, element);\n",
              "          const docLink = document.createElement('div');\n",
              "          docLink.innerHTML = docLinkHtml;\n",
              "          element.appendChild(docLink);\n",
              "        }\n",
              "      </script>\n",
              "    </div>\n",
              "  </div>\n",
              "  "
            ]
          },
          "metadata": {},
          "execution_count": 44
        }
      ]
    },
    {
      "cell_type": "markdown",
      "source": [
        "### One hot encoding"
      ],
      "metadata": {
        "id": "y2ZigG3WwIaU"
      }
    },
    {
      "cell_type": "markdown",
      "source": [
        "As shown by the explosion in columns from the one-hot encoding method (8 ➡ 187) its inefficient to maintain such a high dimensional feature set. Even though this is still not overwhelming and can be easily handled, in practice, categorical data with many labels can become problematic. \n",
        "\n",
        "One idea is to limit one hot encoding to the top n most frequent labels of the categorical variable. \n",
        "\n",
        "For example, the variable X0 has 47 unique labels. Let's determine which are the top 10 labels (selecting n labels to include is arbitrary at this point)."
      ],
      "metadata": {
        "id": "9JuuH-swxY4V"
      }
    },
    {
      "cell_type": "code",
      "source": [
        "# Find the top 10 most frequent categories for the variable X0\n",
        "\n",
        "benz_df.X0.value_counts().sort_values(ascending=False).head(10)"
      ],
      "metadata": {
        "colab": {
          "base_uri": "https://localhost:8080/"
        },
        "id": "Fw0rL7NqwKli",
        "outputId": "3bbb8cb8-2088-46b5-deee-86e7bf070306"
      },
      "execution_count": 70,
      "outputs": [
        {
          "output_type": "execute_result",
          "data": {
            "text/plain": [
              "z     360\n",
              "ak    349\n",
              "y     324\n",
              "ay    313\n",
              "t     306\n",
              "x     300\n",
              "o     269\n",
              "f     227\n",
              "n     195\n",
              "w     182\n",
              "Name: X0, dtype: int64"
            ]
          },
          "metadata": {},
          "execution_count": 70
        }
      ]
    },
    {
      "cell_type": "code",
      "source": [
        "# Make a list with the most frequent categories of the variable\n",
        "\n",
        "top10 = [x for x in benz_df.X0.value_counts().sort_values(ascending=False).head(10).index]\n",
        "top10"
      ],
      "metadata": {
        "colab": {
          "base_uri": "https://localhost:8080/"
        },
        "id": "zQTd0lZryVRk",
        "outputId": "50d71490-9b07-4cba-92ea-aa518e47c1eb"
      },
      "execution_count": 64,
      "outputs": [
        {
          "output_type": "execute_result",
          "data": {
            "text/plain": [
              "['z', 'ak', 'y', 'ay', 't', 'x', 'o', 'f', 'n', 'w']"
            ]
          },
          "metadata": {},
          "execution_count": 64
        }
      ]
    },
    {
      "cell_type": "code",
      "source": [
        "# Make the 10 binary variables\n",
        "\n",
        "for label in top10:\n",
        "  benz_df[label] = np.where(benz_df['X0']==label, 1, 0)\n",
        "\n",
        "benz_df[['X0']+top10].head(10)"
      ],
      "metadata": {
        "colab": {
          "base_uri": "https://localhost:8080/",
          "height": 363
        },
        "id": "cSJ7hOcC2DDv",
        "outputId": "16f821e8-a72c-423f-8978-fa9241233346"
      },
      "execution_count": 65,
      "outputs": [
        {
          "output_type": "execute_result",
          "data": {
            "text/plain": [
              "   X0  z  ak  y  ay  t  x  o  f  n  w\n",
              "0   k  0   0  0   0  0  0  0  0  0  0\n",
              "1   k  0   0  0   0  0  0  0  0  0  0\n",
              "2  az  0   0  0   0  0  0  0  0  0  0\n",
              "3  az  0   0  0   0  0  0  0  0  0  0\n",
              "4  az  0   0  0   0  0  0  0  0  0  0\n",
              "5   t  0   0  0   0  1  0  0  0  0  0\n",
              "6  al  0   0  0   0  0  0  0  0  0  0\n",
              "7   o  0   0  0   0  0  0  1  0  0  0\n",
              "8   w  0   0  0   0  0  0  0  0  0  1\n",
              "9   j  0   0  0   0  0  0  0  0  0  0"
            ],
            "text/html": [
              "\n",
              "  <div id=\"df-f3e4c912-766e-4a17-b6b1-73369ce8f4b3\">\n",
              "    <div class=\"colab-df-container\">\n",
              "      <div>\n",
              "<style scoped>\n",
              "    .dataframe tbody tr th:only-of-type {\n",
              "        vertical-align: middle;\n",
              "    }\n",
              "\n",
              "    .dataframe tbody tr th {\n",
              "        vertical-align: top;\n",
              "    }\n",
              "\n",
              "    .dataframe thead th {\n",
              "        text-align: right;\n",
              "    }\n",
              "</style>\n",
              "<table border=\"1\" class=\"dataframe\">\n",
              "  <thead>\n",
              "    <tr style=\"text-align: right;\">\n",
              "      <th></th>\n",
              "      <th>X0</th>\n",
              "      <th>z</th>\n",
              "      <th>ak</th>\n",
              "      <th>y</th>\n",
              "      <th>ay</th>\n",
              "      <th>t</th>\n",
              "      <th>x</th>\n",
              "      <th>o</th>\n",
              "      <th>f</th>\n",
              "      <th>n</th>\n",
              "      <th>w</th>\n",
              "    </tr>\n",
              "  </thead>\n",
              "  <tbody>\n",
              "    <tr>\n",
              "      <th>0</th>\n",
              "      <td>k</td>\n",
              "      <td>0</td>\n",
              "      <td>0</td>\n",
              "      <td>0</td>\n",
              "      <td>0</td>\n",
              "      <td>0</td>\n",
              "      <td>0</td>\n",
              "      <td>0</td>\n",
              "      <td>0</td>\n",
              "      <td>0</td>\n",
              "      <td>0</td>\n",
              "    </tr>\n",
              "    <tr>\n",
              "      <th>1</th>\n",
              "      <td>k</td>\n",
              "      <td>0</td>\n",
              "      <td>0</td>\n",
              "      <td>0</td>\n",
              "      <td>0</td>\n",
              "      <td>0</td>\n",
              "      <td>0</td>\n",
              "      <td>0</td>\n",
              "      <td>0</td>\n",
              "      <td>0</td>\n",
              "      <td>0</td>\n",
              "    </tr>\n",
              "    <tr>\n",
              "      <th>2</th>\n",
              "      <td>az</td>\n",
              "      <td>0</td>\n",
              "      <td>0</td>\n",
              "      <td>0</td>\n",
              "      <td>0</td>\n",
              "      <td>0</td>\n",
              "      <td>0</td>\n",
              "      <td>0</td>\n",
              "      <td>0</td>\n",
              "      <td>0</td>\n",
              "      <td>0</td>\n",
              "    </tr>\n",
              "    <tr>\n",
              "      <th>3</th>\n",
              "      <td>az</td>\n",
              "      <td>0</td>\n",
              "      <td>0</td>\n",
              "      <td>0</td>\n",
              "      <td>0</td>\n",
              "      <td>0</td>\n",
              "      <td>0</td>\n",
              "      <td>0</td>\n",
              "      <td>0</td>\n",
              "      <td>0</td>\n",
              "      <td>0</td>\n",
              "    </tr>\n",
              "    <tr>\n",
              "      <th>4</th>\n",
              "      <td>az</td>\n",
              "      <td>0</td>\n",
              "      <td>0</td>\n",
              "      <td>0</td>\n",
              "      <td>0</td>\n",
              "      <td>0</td>\n",
              "      <td>0</td>\n",
              "      <td>0</td>\n",
              "      <td>0</td>\n",
              "      <td>0</td>\n",
              "      <td>0</td>\n",
              "    </tr>\n",
              "    <tr>\n",
              "      <th>5</th>\n",
              "      <td>t</td>\n",
              "      <td>0</td>\n",
              "      <td>0</td>\n",
              "      <td>0</td>\n",
              "      <td>0</td>\n",
              "      <td>1</td>\n",
              "      <td>0</td>\n",
              "      <td>0</td>\n",
              "      <td>0</td>\n",
              "      <td>0</td>\n",
              "      <td>0</td>\n",
              "    </tr>\n",
              "    <tr>\n",
              "      <th>6</th>\n",
              "      <td>al</td>\n",
              "      <td>0</td>\n",
              "      <td>0</td>\n",
              "      <td>0</td>\n",
              "      <td>0</td>\n",
              "      <td>0</td>\n",
              "      <td>0</td>\n",
              "      <td>0</td>\n",
              "      <td>0</td>\n",
              "      <td>0</td>\n",
              "      <td>0</td>\n",
              "    </tr>\n",
              "    <tr>\n",
              "      <th>7</th>\n",
              "      <td>o</td>\n",
              "      <td>0</td>\n",
              "      <td>0</td>\n",
              "      <td>0</td>\n",
              "      <td>0</td>\n",
              "      <td>0</td>\n",
              "      <td>0</td>\n",
              "      <td>1</td>\n",
              "      <td>0</td>\n",
              "      <td>0</td>\n",
              "      <td>0</td>\n",
              "    </tr>\n",
              "    <tr>\n",
              "      <th>8</th>\n",
              "      <td>w</td>\n",
              "      <td>0</td>\n",
              "      <td>0</td>\n",
              "      <td>0</td>\n",
              "      <td>0</td>\n",
              "      <td>0</td>\n",
              "      <td>0</td>\n",
              "      <td>0</td>\n",
              "      <td>0</td>\n",
              "      <td>0</td>\n",
              "      <td>1</td>\n",
              "    </tr>\n",
              "    <tr>\n",
              "      <th>9</th>\n",
              "      <td>j</td>\n",
              "      <td>0</td>\n",
              "      <td>0</td>\n",
              "      <td>0</td>\n",
              "      <td>0</td>\n",
              "      <td>0</td>\n",
              "      <td>0</td>\n",
              "      <td>0</td>\n",
              "      <td>0</td>\n",
              "      <td>0</td>\n",
              "      <td>0</td>\n",
              "    </tr>\n",
              "  </tbody>\n",
              "</table>\n",
              "</div>\n",
              "      <button class=\"colab-df-convert\" onclick=\"convertToInteractive('df-f3e4c912-766e-4a17-b6b1-73369ce8f4b3')\"\n",
              "              title=\"Convert this dataframe to an interactive table.\"\n",
              "              style=\"display:none;\">\n",
              "        \n",
              "  <svg xmlns=\"http://www.w3.org/2000/svg\" height=\"24px\"viewBox=\"0 0 24 24\"\n",
              "       width=\"24px\">\n",
              "    <path d=\"M0 0h24v24H0V0z\" fill=\"none\"/>\n",
              "    <path d=\"M18.56 5.44l.94 2.06.94-2.06 2.06-.94-2.06-.94-.94-2.06-.94 2.06-2.06.94zm-11 1L8.5 8.5l.94-2.06 2.06-.94-2.06-.94L8.5 2.5l-.94 2.06-2.06.94zm10 10l.94 2.06.94-2.06 2.06-.94-2.06-.94-.94-2.06-.94 2.06-2.06.94z\"/><path d=\"M17.41 7.96l-1.37-1.37c-.4-.4-.92-.59-1.43-.59-.52 0-1.04.2-1.43.59L10.3 9.45l-7.72 7.72c-.78.78-.78 2.05 0 2.83L4 21.41c.39.39.9.59 1.41.59.51 0 1.02-.2 1.41-.59l7.78-7.78 2.81-2.81c.8-.78.8-2.07 0-2.86zM5.41 20L4 18.59l7.72-7.72 1.47 1.35L5.41 20z\"/>\n",
              "  </svg>\n",
              "      </button>\n",
              "      \n",
              "  <style>\n",
              "    .colab-df-container {\n",
              "      display:flex;\n",
              "      flex-wrap:wrap;\n",
              "      gap: 12px;\n",
              "    }\n",
              "\n",
              "    .colab-df-convert {\n",
              "      background-color: #E8F0FE;\n",
              "      border: none;\n",
              "      border-radius: 50%;\n",
              "      cursor: pointer;\n",
              "      display: none;\n",
              "      fill: #1967D2;\n",
              "      height: 32px;\n",
              "      padding: 0 0 0 0;\n",
              "      width: 32px;\n",
              "    }\n",
              "\n",
              "    .colab-df-convert:hover {\n",
              "      background-color: #E2EBFA;\n",
              "      box-shadow: 0px 1px 2px rgba(60, 64, 67, 0.3), 0px 1px 3px 1px rgba(60, 64, 67, 0.15);\n",
              "      fill: #174EA6;\n",
              "    }\n",
              "\n",
              "    [theme=dark] .colab-df-convert {\n",
              "      background-color: #3B4455;\n",
              "      fill: #D2E3FC;\n",
              "    }\n",
              "\n",
              "    [theme=dark] .colab-df-convert:hover {\n",
              "      background-color: #434B5C;\n",
              "      box-shadow: 0px 1px 3px 1px rgba(0, 0, 0, 0.15);\n",
              "      filter: drop-shadow(0px 1px 2px rgba(0, 0, 0, 0.3));\n",
              "      fill: #FFFFFF;\n",
              "    }\n",
              "  </style>\n",
              "\n",
              "      <script>\n",
              "        const buttonEl =\n",
              "          document.querySelector('#df-f3e4c912-766e-4a17-b6b1-73369ce8f4b3 button.colab-df-convert');\n",
              "        buttonEl.style.display =\n",
              "          google.colab.kernel.accessAllowed ? 'block' : 'none';\n",
              "\n",
              "        async function convertToInteractive(key) {\n",
              "          const element = document.querySelector('#df-f3e4c912-766e-4a17-b6b1-73369ce8f4b3');\n",
              "          const dataTable =\n",
              "            await google.colab.kernel.invokeFunction('convertToInteractive',\n",
              "                                                     [key], {});\n",
              "          if (!dataTable) return;\n",
              "\n",
              "          const docLinkHtml = 'Like what you see? Visit the ' +\n",
              "            '<a target=\"_blank\" href=https://colab.research.google.com/notebooks/data_table.ipynb>data table notebook</a>'\n",
              "            + ' to learn more about interactive tables.';\n",
              "          element.innerHTML = '';\n",
              "          dataTable['output_type'] = 'display_data';\n",
              "          await google.colab.output.renderOutput(dataTable, element);\n",
              "          const docLink = document.createElement('div');\n",
              "          docLink.innerHTML = docLinkHtml;\n",
              "          element.appendChild(docLink);\n",
              "        }\n",
              "      </script>\n",
              "    </div>\n",
              "  </div>\n",
              "  "
            ]
          },
          "metadata": {},
          "execution_count": 65
        }
      ]
    },
    {
      "cell_type": "code",
      "source": [
        "# Get the whole set of dummy variables, for all the categorical variables \n",
        "\n",
        "def one_hot_top_x(data,variable,top_x_labels):\n",
        "  #function to create the dummy variables for the most frequent labels\n",
        "  #we can vary the number of most frequent labels to encode\n",
        "\n",
        "  for label in top_x_labels:\n",
        "    data[variable+'_'+label]= np.where(data[variable] ==label, 1, 0)\n",
        "\n",
        "#read data again\n",
        "data = pd.read_csv('train.csv.zip', usecols=[\"X0\", \"X1\", \"X2\", \"X3\", \"X4\", \"X5\", \"X6\", \"X8\"])\n",
        "\n",
        "#encode X0 into the 10 most frequent categories\n",
        "one_hot_top_x(data, 'X0', top_10)\n",
        "data.head()"
      ],
      "metadata": {
        "colab": {
          "base_uri": "https://localhost:8080/",
          "height": 206
        },
        "id": "ekcRX8OU3VnK",
        "outputId": "b4d9d1e9-7b3d-453c-96f1-d40c972ec3ee"
      },
      "execution_count": 67,
      "outputs": [
        {
          "output_type": "execute_result",
          "data": {
            "text/plain": [
              "   X0 X1  X2 X3 X4 X5 X6 X8  X0_aa  X0_s  X0_b  X0_l  X0_v\n",
              "0   k  v  at  a  d  u  j  o      0     0     0     0     0\n",
              "1   k  t  av  e  d  y  l  o      0     0     0     0     0\n",
              "2  az  w   n  c  d  x  j  x      0     0     0     0     0\n",
              "3  az  t   n  f  d  x  l  e      0     0     0     0     0\n",
              "4  az  v   n  f  d  h  d  n      0     0     0     0     0"
            ],
            "text/html": [
              "\n",
              "  <div id=\"df-bb98f20c-e1bd-48d9-b99d-d2cc47c33aeb\">\n",
              "    <div class=\"colab-df-container\">\n",
              "      <div>\n",
              "<style scoped>\n",
              "    .dataframe tbody tr th:only-of-type {\n",
              "        vertical-align: middle;\n",
              "    }\n",
              "\n",
              "    .dataframe tbody tr th {\n",
              "        vertical-align: top;\n",
              "    }\n",
              "\n",
              "    .dataframe thead th {\n",
              "        text-align: right;\n",
              "    }\n",
              "</style>\n",
              "<table border=\"1\" class=\"dataframe\">\n",
              "  <thead>\n",
              "    <tr style=\"text-align: right;\">\n",
              "      <th></th>\n",
              "      <th>X0</th>\n",
              "      <th>X1</th>\n",
              "      <th>X2</th>\n",
              "      <th>X3</th>\n",
              "      <th>X4</th>\n",
              "      <th>X5</th>\n",
              "      <th>X6</th>\n",
              "      <th>X8</th>\n",
              "      <th>X0_aa</th>\n",
              "      <th>X0_s</th>\n",
              "      <th>X0_b</th>\n",
              "      <th>X0_l</th>\n",
              "      <th>X0_v</th>\n",
              "    </tr>\n",
              "  </thead>\n",
              "  <tbody>\n",
              "    <tr>\n",
              "      <th>0</th>\n",
              "      <td>k</td>\n",
              "      <td>v</td>\n",
              "      <td>at</td>\n",
              "      <td>a</td>\n",
              "      <td>d</td>\n",
              "      <td>u</td>\n",
              "      <td>j</td>\n",
              "      <td>o</td>\n",
              "      <td>0</td>\n",
              "      <td>0</td>\n",
              "      <td>0</td>\n",
              "      <td>0</td>\n",
              "      <td>0</td>\n",
              "    </tr>\n",
              "    <tr>\n",
              "      <th>1</th>\n",
              "      <td>k</td>\n",
              "      <td>t</td>\n",
              "      <td>av</td>\n",
              "      <td>e</td>\n",
              "      <td>d</td>\n",
              "      <td>y</td>\n",
              "      <td>l</td>\n",
              "      <td>o</td>\n",
              "      <td>0</td>\n",
              "      <td>0</td>\n",
              "      <td>0</td>\n",
              "      <td>0</td>\n",
              "      <td>0</td>\n",
              "    </tr>\n",
              "    <tr>\n",
              "      <th>2</th>\n",
              "      <td>az</td>\n",
              "      <td>w</td>\n",
              "      <td>n</td>\n",
              "      <td>c</td>\n",
              "      <td>d</td>\n",
              "      <td>x</td>\n",
              "      <td>j</td>\n",
              "      <td>x</td>\n",
              "      <td>0</td>\n",
              "      <td>0</td>\n",
              "      <td>0</td>\n",
              "      <td>0</td>\n",
              "      <td>0</td>\n",
              "    </tr>\n",
              "    <tr>\n",
              "      <th>3</th>\n",
              "      <td>az</td>\n",
              "      <td>t</td>\n",
              "      <td>n</td>\n",
              "      <td>f</td>\n",
              "      <td>d</td>\n",
              "      <td>x</td>\n",
              "      <td>l</td>\n",
              "      <td>e</td>\n",
              "      <td>0</td>\n",
              "      <td>0</td>\n",
              "      <td>0</td>\n",
              "      <td>0</td>\n",
              "      <td>0</td>\n",
              "    </tr>\n",
              "    <tr>\n",
              "      <th>4</th>\n",
              "      <td>az</td>\n",
              "      <td>v</td>\n",
              "      <td>n</td>\n",
              "      <td>f</td>\n",
              "      <td>d</td>\n",
              "      <td>h</td>\n",
              "      <td>d</td>\n",
              "      <td>n</td>\n",
              "      <td>0</td>\n",
              "      <td>0</td>\n",
              "      <td>0</td>\n",
              "      <td>0</td>\n",
              "      <td>0</td>\n",
              "    </tr>\n",
              "  </tbody>\n",
              "</table>\n",
              "</div>\n",
              "      <button class=\"colab-df-convert\" onclick=\"convertToInteractive('df-bb98f20c-e1bd-48d9-b99d-d2cc47c33aeb')\"\n",
              "              title=\"Convert this dataframe to an interactive table.\"\n",
              "              style=\"display:none;\">\n",
              "        \n",
              "  <svg xmlns=\"http://www.w3.org/2000/svg\" height=\"24px\"viewBox=\"0 0 24 24\"\n",
              "       width=\"24px\">\n",
              "    <path d=\"M0 0h24v24H0V0z\" fill=\"none\"/>\n",
              "    <path d=\"M18.56 5.44l.94 2.06.94-2.06 2.06-.94-2.06-.94-.94-2.06-.94 2.06-2.06.94zm-11 1L8.5 8.5l.94-2.06 2.06-.94-2.06-.94L8.5 2.5l-.94 2.06-2.06.94zm10 10l.94 2.06.94-2.06 2.06-.94-2.06-.94-.94-2.06-.94 2.06-2.06.94z\"/><path d=\"M17.41 7.96l-1.37-1.37c-.4-.4-.92-.59-1.43-.59-.52 0-1.04.2-1.43.59L10.3 9.45l-7.72 7.72c-.78.78-.78 2.05 0 2.83L4 21.41c.39.39.9.59 1.41.59.51 0 1.02-.2 1.41-.59l7.78-7.78 2.81-2.81c.8-.78.8-2.07 0-2.86zM5.41 20L4 18.59l7.72-7.72 1.47 1.35L5.41 20z\"/>\n",
              "  </svg>\n",
              "      </button>\n",
              "      \n",
              "  <style>\n",
              "    .colab-df-container {\n",
              "      display:flex;\n",
              "      flex-wrap:wrap;\n",
              "      gap: 12px;\n",
              "    }\n",
              "\n",
              "    .colab-df-convert {\n",
              "      background-color: #E8F0FE;\n",
              "      border: none;\n",
              "      border-radius: 50%;\n",
              "      cursor: pointer;\n",
              "      display: none;\n",
              "      fill: #1967D2;\n",
              "      height: 32px;\n",
              "      padding: 0 0 0 0;\n",
              "      width: 32px;\n",
              "    }\n",
              "\n",
              "    .colab-df-convert:hover {\n",
              "      background-color: #E2EBFA;\n",
              "      box-shadow: 0px 1px 2px rgba(60, 64, 67, 0.3), 0px 1px 3px 1px rgba(60, 64, 67, 0.15);\n",
              "      fill: #174EA6;\n",
              "    }\n",
              "\n",
              "    [theme=dark] .colab-df-convert {\n",
              "      background-color: #3B4455;\n",
              "      fill: #D2E3FC;\n",
              "    }\n",
              "\n",
              "    [theme=dark] .colab-df-convert:hover {\n",
              "      background-color: #434B5C;\n",
              "      box-shadow: 0px 1px 3px 1px rgba(0, 0, 0, 0.15);\n",
              "      filter: drop-shadow(0px 1px 2px rgba(0, 0, 0, 0.3));\n",
              "      fill: #FFFFFF;\n",
              "    }\n",
              "  </style>\n",
              "\n",
              "      <script>\n",
              "        const buttonEl =\n",
              "          document.querySelector('#df-bb98f20c-e1bd-48d9-b99d-d2cc47c33aeb button.colab-df-convert');\n",
              "        buttonEl.style.display =\n",
              "          google.colab.kernel.accessAllowed ? 'block' : 'none';\n",
              "\n",
              "        async function convertToInteractive(key) {\n",
              "          const element = document.querySelector('#df-bb98f20c-e1bd-48d9-b99d-d2cc47c33aeb');\n",
              "          const dataTable =\n",
              "            await google.colab.kernel.invokeFunction('convertToInteractive',\n",
              "                                                     [key], {});\n",
              "          if (!dataTable) return;\n",
              "\n",
              "          const docLinkHtml = 'Like what you see? Visit the ' +\n",
              "            '<a target=\"_blank\" href=https://colab.research.google.com/notebooks/data_table.ipynb>data table notebook</a>'\n",
              "            + ' to learn more about interactive tables.';\n",
              "          element.innerHTML = '';\n",
              "          dataTable['output_type'] = 'display_data';\n",
              "          await google.colab.output.renderOutput(dataTable, element);\n",
              "          const docLink = document.createElement('div');\n",
              "          docLink.innerHTML = docLinkHtml;\n",
              "          element.appendChild(docLink);\n",
              "        }\n",
              "      </script>\n",
              "    </div>\n",
              "  </div>\n",
              "  "
            ]
          },
          "metadata": {},
          "execution_count": 67
        }
      ]
    },
    {
      "cell_type": "code",
      "source": [
        "top_10 = [x for x in data.X2.value_counts().sort_values(ascending=False).head().index]\n",
        "\n",
        "#create\n",
        "one_hot_top_x(data, 'X2',top_10)\n",
        "data.head()"
      ],
      "metadata": {
        "colab": {
          "base_uri": "https://localhost:8080/",
          "height": 206
        },
        "id": "WLcnPMQ963KB",
        "outputId": "91233d72-59c5-477d-a945-d3e1383e2e11"
      },
      "execution_count": 68,
      "outputs": [
        {
          "output_type": "execute_result",
          "data": {
            "text/plain": [
              "   X0 X1  X2 X3 X4 X5 X6 X8  X0_aa  X0_s  X0_b  X0_l  X0_v  X2_as  X2_ae  \\\n",
              "0   k  v  at  a  d  u  j  o      0     0     0     0     0      0      0   \n",
              "1   k  t  av  e  d  y  l  o      0     0     0     0     0      0      0   \n",
              "2  az  w   n  c  d  x  j  x      0     0     0     0     0      0      0   \n",
              "3  az  t   n  f  d  x  l  e      0     0     0     0     0      0      0   \n",
              "4  az  v   n  f  d  h  d  n      0     0     0     0     0      0      0   \n",
              "\n",
              "   X2_ai  X2_m  X2_ak  \n",
              "0      0     0      0  \n",
              "1      0     0      0  \n",
              "2      0     0      0  \n",
              "3      0     0      0  \n",
              "4      0     0      0  "
            ],
            "text/html": [
              "\n",
              "  <div id=\"df-c9557f06-15d1-4fc8-aaaa-f93b3468c322\">\n",
              "    <div class=\"colab-df-container\">\n",
              "      <div>\n",
              "<style scoped>\n",
              "    .dataframe tbody tr th:only-of-type {\n",
              "        vertical-align: middle;\n",
              "    }\n",
              "\n",
              "    .dataframe tbody tr th {\n",
              "        vertical-align: top;\n",
              "    }\n",
              "\n",
              "    .dataframe thead th {\n",
              "        text-align: right;\n",
              "    }\n",
              "</style>\n",
              "<table border=\"1\" class=\"dataframe\">\n",
              "  <thead>\n",
              "    <tr style=\"text-align: right;\">\n",
              "      <th></th>\n",
              "      <th>X0</th>\n",
              "      <th>X1</th>\n",
              "      <th>X2</th>\n",
              "      <th>X3</th>\n",
              "      <th>X4</th>\n",
              "      <th>X5</th>\n",
              "      <th>X6</th>\n",
              "      <th>X8</th>\n",
              "      <th>X0_aa</th>\n",
              "      <th>X0_s</th>\n",
              "      <th>X0_b</th>\n",
              "      <th>X0_l</th>\n",
              "      <th>X0_v</th>\n",
              "      <th>X2_as</th>\n",
              "      <th>X2_ae</th>\n",
              "      <th>X2_ai</th>\n",
              "      <th>X2_m</th>\n",
              "      <th>X2_ak</th>\n",
              "    </tr>\n",
              "  </thead>\n",
              "  <tbody>\n",
              "    <tr>\n",
              "      <th>0</th>\n",
              "      <td>k</td>\n",
              "      <td>v</td>\n",
              "      <td>at</td>\n",
              "      <td>a</td>\n",
              "      <td>d</td>\n",
              "      <td>u</td>\n",
              "      <td>j</td>\n",
              "      <td>o</td>\n",
              "      <td>0</td>\n",
              "      <td>0</td>\n",
              "      <td>0</td>\n",
              "      <td>0</td>\n",
              "      <td>0</td>\n",
              "      <td>0</td>\n",
              "      <td>0</td>\n",
              "      <td>0</td>\n",
              "      <td>0</td>\n",
              "      <td>0</td>\n",
              "    </tr>\n",
              "    <tr>\n",
              "      <th>1</th>\n",
              "      <td>k</td>\n",
              "      <td>t</td>\n",
              "      <td>av</td>\n",
              "      <td>e</td>\n",
              "      <td>d</td>\n",
              "      <td>y</td>\n",
              "      <td>l</td>\n",
              "      <td>o</td>\n",
              "      <td>0</td>\n",
              "      <td>0</td>\n",
              "      <td>0</td>\n",
              "      <td>0</td>\n",
              "      <td>0</td>\n",
              "      <td>0</td>\n",
              "      <td>0</td>\n",
              "      <td>0</td>\n",
              "      <td>0</td>\n",
              "      <td>0</td>\n",
              "    </tr>\n",
              "    <tr>\n",
              "      <th>2</th>\n",
              "      <td>az</td>\n",
              "      <td>w</td>\n",
              "      <td>n</td>\n",
              "      <td>c</td>\n",
              "      <td>d</td>\n",
              "      <td>x</td>\n",
              "      <td>j</td>\n",
              "      <td>x</td>\n",
              "      <td>0</td>\n",
              "      <td>0</td>\n",
              "      <td>0</td>\n",
              "      <td>0</td>\n",
              "      <td>0</td>\n",
              "      <td>0</td>\n",
              "      <td>0</td>\n",
              "      <td>0</td>\n",
              "      <td>0</td>\n",
              "      <td>0</td>\n",
              "    </tr>\n",
              "    <tr>\n",
              "      <th>3</th>\n",
              "      <td>az</td>\n",
              "      <td>t</td>\n",
              "      <td>n</td>\n",
              "      <td>f</td>\n",
              "      <td>d</td>\n",
              "      <td>x</td>\n",
              "      <td>l</td>\n",
              "      <td>e</td>\n",
              "      <td>0</td>\n",
              "      <td>0</td>\n",
              "      <td>0</td>\n",
              "      <td>0</td>\n",
              "      <td>0</td>\n",
              "      <td>0</td>\n",
              "      <td>0</td>\n",
              "      <td>0</td>\n",
              "      <td>0</td>\n",
              "      <td>0</td>\n",
              "    </tr>\n",
              "    <tr>\n",
              "      <th>4</th>\n",
              "      <td>az</td>\n",
              "      <td>v</td>\n",
              "      <td>n</td>\n",
              "      <td>f</td>\n",
              "      <td>d</td>\n",
              "      <td>h</td>\n",
              "      <td>d</td>\n",
              "      <td>n</td>\n",
              "      <td>0</td>\n",
              "      <td>0</td>\n",
              "      <td>0</td>\n",
              "      <td>0</td>\n",
              "      <td>0</td>\n",
              "      <td>0</td>\n",
              "      <td>0</td>\n",
              "      <td>0</td>\n",
              "      <td>0</td>\n",
              "      <td>0</td>\n",
              "    </tr>\n",
              "  </tbody>\n",
              "</table>\n",
              "</div>\n",
              "      <button class=\"colab-df-convert\" onclick=\"convertToInteractive('df-c9557f06-15d1-4fc8-aaaa-f93b3468c322')\"\n",
              "              title=\"Convert this dataframe to an interactive table.\"\n",
              "              style=\"display:none;\">\n",
              "        \n",
              "  <svg xmlns=\"http://www.w3.org/2000/svg\" height=\"24px\"viewBox=\"0 0 24 24\"\n",
              "       width=\"24px\">\n",
              "    <path d=\"M0 0h24v24H0V0z\" fill=\"none\"/>\n",
              "    <path d=\"M18.56 5.44l.94 2.06.94-2.06 2.06-.94-2.06-.94-.94-2.06-.94 2.06-2.06.94zm-11 1L8.5 8.5l.94-2.06 2.06-.94-2.06-.94L8.5 2.5l-.94 2.06-2.06.94zm10 10l.94 2.06.94-2.06 2.06-.94-2.06-.94-.94-2.06-.94 2.06-2.06.94z\"/><path d=\"M17.41 7.96l-1.37-1.37c-.4-.4-.92-.59-1.43-.59-.52 0-1.04.2-1.43.59L10.3 9.45l-7.72 7.72c-.78.78-.78 2.05 0 2.83L4 21.41c.39.39.9.59 1.41.59.51 0 1.02-.2 1.41-.59l7.78-7.78 2.81-2.81c.8-.78.8-2.07 0-2.86zM5.41 20L4 18.59l7.72-7.72 1.47 1.35L5.41 20z\"/>\n",
              "  </svg>\n",
              "      </button>\n",
              "      \n",
              "  <style>\n",
              "    .colab-df-container {\n",
              "      display:flex;\n",
              "      flex-wrap:wrap;\n",
              "      gap: 12px;\n",
              "    }\n",
              "\n",
              "    .colab-df-convert {\n",
              "      background-color: #E8F0FE;\n",
              "      border: none;\n",
              "      border-radius: 50%;\n",
              "      cursor: pointer;\n",
              "      display: none;\n",
              "      fill: #1967D2;\n",
              "      height: 32px;\n",
              "      padding: 0 0 0 0;\n",
              "      width: 32px;\n",
              "    }\n",
              "\n",
              "    .colab-df-convert:hover {\n",
              "      background-color: #E2EBFA;\n",
              "      box-shadow: 0px 1px 2px rgba(60, 64, 67, 0.3), 0px 1px 3px 1px rgba(60, 64, 67, 0.15);\n",
              "      fill: #174EA6;\n",
              "    }\n",
              "\n",
              "    [theme=dark] .colab-df-convert {\n",
              "      background-color: #3B4455;\n",
              "      fill: #D2E3FC;\n",
              "    }\n",
              "\n",
              "    [theme=dark] .colab-df-convert:hover {\n",
              "      background-color: #434B5C;\n",
              "      box-shadow: 0px 1px 3px 1px rgba(0, 0, 0, 0.15);\n",
              "      filter: drop-shadow(0px 1px 2px rgba(0, 0, 0, 0.3));\n",
              "      fill: #FFFFFF;\n",
              "    }\n",
              "  </style>\n",
              "\n",
              "      <script>\n",
              "        const buttonEl =\n",
              "          document.querySelector('#df-c9557f06-15d1-4fc8-aaaa-f93b3468c322 button.colab-df-convert');\n",
              "        buttonEl.style.display =\n",
              "          google.colab.kernel.accessAllowed ? 'block' : 'none';\n",
              "\n",
              "        async function convertToInteractive(key) {\n",
              "          const element = document.querySelector('#df-c9557f06-15d1-4fc8-aaaa-f93b3468c322');\n",
              "          const dataTable =\n",
              "            await google.colab.kernel.invokeFunction('convertToInteractive',\n",
              "                                                     [key], {});\n",
              "          if (!dataTable) return;\n",
              "\n",
              "          const docLinkHtml = 'Like what you see? Visit the ' +\n",
              "            '<a target=\"_blank\" href=https://colab.research.google.com/notebooks/data_table.ipynb>data table notebook</a>'\n",
              "            + ' to learn more about interactive tables.';\n",
              "          element.innerHTML = '';\n",
              "          dataTable['output_type'] = 'display_data';\n",
              "          await google.colab.output.renderOutput(dataTable, element);\n",
              "          const docLink = document.createElement('div');\n",
              "          docLink.innerHTML = docLinkHtml;\n",
              "          element.appendChild(docLink);\n",
              "        }\n",
              "      </script>\n",
              "    </div>\n",
              "  </div>\n",
              "  "
            ]
          },
          "metadata": {},
          "execution_count": 68
        }
      ]
    },
    {
      "cell_type": "code",
      "source": [
        "top_10 = [x for x in data.X3.value_counts().sort_values(ascending=False).head().index]\n",
        "\n",
        "#create\n",
        "one_hot_top_x(data, 'X3',top_10)\n",
        "data.head()"
      ],
      "metadata": {
        "colab": {
          "base_uri": "https://localhost:8080/",
          "height": 235
        },
        "id": "G3FEzgwH7ZSe",
        "outputId": "0dc50c8b-f138-48fa-8f1a-0f62553b4806"
      },
      "execution_count": 69,
      "outputs": [
        {
          "output_type": "execute_result",
          "data": {
            "text/plain": [
              "   X0 X1  X2 X3 X4 X5 X6 X8  X0_aa  X0_s  ...  X2_as  X2_ae  X2_ai  X2_m  \\\n",
              "0   k  v  at  a  d  u  j  o      0     0  ...      0      0      0     0   \n",
              "1   k  t  av  e  d  y  l  o      0     0  ...      0      0      0     0   \n",
              "2  az  w   n  c  d  x  j  x      0     0  ...      0      0      0     0   \n",
              "3  az  t   n  f  d  x  l  e      0     0  ...      0      0      0     0   \n",
              "4  az  v   n  f  d  h  d  n      0     0  ...      0      0      0     0   \n",
              "\n",
              "   X2_ak  X3_c  X3_f  X3_a  X3_d  X3_g  \n",
              "0      0     0     0     1     0     0  \n",
              "1      0     0     0     0     0     0  \n",
              "2      0     1     0     0     0     0  \n",
              "3      0     0     1     0     0     0  \n",
              "4      0     0     1     0     0     0  \n",
              "\n",
              "[5 rows x 23 columns]"
            ],
            "text/html": [
              "\n",
              "  <div id=\"df-4068d57e-eb64-4a76-ad11-94e0cc239b71\">\n",
              "    <div class=\"colab-df-container\">\n",
              "      <div>\n",
              "<style scoped>\n",
              "    .dataframe tbody tr th:only-of-type {\n",
              "        vertical-align: middle;\n",
              "    }\n",
              "\n",
              "    .dataframe tbody tr th {\n",
              "        vertical-align: top;\n",
              "    }\n",
              "\n",
              "    .dataframe thead th {\n",
              "        text-align: right;\n",
              "    }\n",
              "</style>\n",
              "<table border=\"1\" class=\"dataframe\">\n",
              "  <thead>\n",
              "    <tr style=\"text-align: right;\">\n",
              "      <th></th>\n",
              "      <th>X0</th>\n",
              "      <th>X1</th>\n",
              "      <th>X2</th>\n",
              "      <th>X3</th>\n",
              "      <th>X4</th>\n",
              "      <th>X5</th>\n",
              "      <th>X6</th>\n",
              "      <th>X8</th>\n",
              "      <th>X0_aa</th>\n",
              "      <th>X0_s</th>\n",
              "      <th>...</th>\n",
              "      <th>X2_as</th>\n",
              "      <th>X2_ae</th>\n",
              "      <th>X2_ai</th>\n",
              "      <th>X2_m</th>\n",
              "      <th>X2_ak</th>\n",
              "      <th>X3_c</th>\n",
              "      <th>X3_f</th>\n",
              "      <th>X3_a</th>\n",
              "      <th>X3_d</th>\n",
              "      <th>X3_g</th>\n",
              "    </tr>\n",
              "  </thead>\n",
              "  <tbody>\n",
              "    <tr>\n",
              "      <th>0</th>\n",
              "      <td>k</td>\n",
              "      <td>v</td>\n",
              "      <td>at</td>\n",
              "      <td>a</td>\n",
              "      <td>d</td>\n",
              "      <td>u</td>\n",
              "      <td>j</td>\n",
              "      <td>o</td>\n",
              "      <td>0</td>\n",
              "      <td>0</td>\n",
              "      <td>...</td>\n",
              "      <td>0</td>\n",
              "      <td>0</td>\n",
              "      <td>0</td>\n",
              "      <td>0</td>\n",
              "      <td>0</td>\n",
              "      <td>0</td>\n",
              "      <td>0</td>\n",
              "      <td>1</td>\n",
              "      <td>0</td>\n",
              "      <td>0</td>\n",
              "    </tr>\n",
              "    <tr>\n",
              "      <th>1</th>\n",
              "      <td>k</td>\n",
              "      <td>t</td>\n",
              "      <td>av</td>\n",
              "      <td>e</td>\n",
              "      <td>d</td>\n",
              "      <td>y</td>\n",
              "      <td>l</td>\n",
              "      <td>o</td>\n",
              "      <td>0</td>\n",
              "      <td>0</td>\n",
              "      <td>...</td>\n",
              "      <td>0</td>\n",
              "      <td>0</td>\n",
              "      <td>0</td>\n",
              "      <td>0</td>\n",
              "      <td>0</td>\n",
              "      <td>0</td>\n",
              "      <td>0</td>\n",
              "      <td>0</td>\n",
              "      <td>0</td>\n",
              "      <td>0</td>\n",
              "    </tr>\n",
              "    <tr>\n",
              "      <th>2</th>\n",
              "      <td>az</td>\n",
              "      <td>w</td>\n",
              "      <td>n</td>\n",
              "      <td>c</td>\n",
              "      <td>d</td>\n",
              "      <td>x</td>\n",
              "      <td>j</td>\n",
              "      <td>x</td>\n",
              "      <td>0</td>\n",
              "      <td>0</td>\n",
              "      <td>...</td>\n",
              "      <td>0</td>\n",
              "      <td>0</td>\n",
              "      <td>0</td>\n",
              "      <td>0</td>\n",
              "      <td>0</td>\n",
              "      <td>1</td>\n",
              "      <td>0</td>\n",
              "      <td>0</td>\n",
              "      <td>0</td>\n",
              "      <td>0</td>\n",
              "    </tr>\n",
              "    <tr>\n",
              "      <th>3</th>\n",
              "      <td>az</td>\n",
              "      <td>t</td>\n",
              "      <td>n</td>\n",
              "      <td>f</td>\n",
              "      <td>d</td>\n",
              "      <td>x</td>\n",
              "      <td>l</td>\n",
              "      <td>e</td>\n",
              "      <td>0</td>\n",
              "      <td>0</td>\n",
              "      <td>...</td>\n",
              "      <td>0</td>\n",
              "      <td>0</td>\n",
              "      <td>0</td>\n",
              "      <td>0</td>\n",
              "      <td>0</td>\n",
              "      <td>0</td>\n",
              "      <td>1</td>\n",
              "      <td>0</td>\n",
              "      <td>0</td>\n",
              "      <td>0</td>\n",
              "    </tr>\n",
              "    <tr>\n",
              "      <th>4</th>\n",
              "      <td>az</td>\n",
              "      <td>v</td>\n",
              "      <td>n</td>\n",
              "      <td>f</td>\n",
              "      <td>d</td>\n",
              "      <td>h</td>\n",
              "      <td>d</td>\n",
              "      <td>n</td>\n",
              "      <td>0</td>\n",
              "      <td>0</td>\n",
              "      <td>...</td>\n",
              "      <td>0</td>\n",
              "      <td>0</td>\n",
              "      <td>0</td>\n",
              "      <td>0</td>\n",
              "      <td>0</td>\n",
              "      <td>0</td>\n",
              "      <td>1</td>\n",
              "      <td>0</td>\n",
              "      <td>0</td>\n",
              "      <td>0</td>\n",
              "    </tr>\n",
              "  </tbody>\n",
              "</table>\n",
              "<p>5 rows × 23 columns</p>\n",
              "</div>\n",
              "      <button class=\"colab-df-convert\" onclick=\"convertToInteractive('df-4068d57e-eb64-4a76-ad11-94e0cc239b71')\"\n",
              "              title=\"Convert this dataframe to an interactive table.\"\n",
              "              style=\"display:none;\">\n",
              "        \n",
              "  <svg xmlns=\"http://www.w3.org/2000/svg\" height=\"24px\"viewBox=\"0 0 24 24\"\n",
              "       width=\"24px\">\n",
              "    <path d=\"M0 0h24v24H0V0z\" fill=\"none\"/>\n",
              "    <path d=\"M18.56 5.44l.94 2.06.94-2.06 2.06-.94-2.06-.94-.94-2.06-.94 2.06-2.06.94zm-11 1L8.5 8.5l.94-2.06 2.06-.94-2.06-.94L8.5 2.5l-.94 2.06-2.06.94zm10 10l.94 2.06.94-2.06 2.06-.94-2.06-.94-.94-2.06-.94 2.06-2.06.94z\"/><path d=\"M17.41 7.96l-1.37-1.37c-.4-.4-.92-.59-1.43-.59-.52 0-1.04.2-1.43.59L10.3 9.45l-7.72 7.72c-.78.78-.78 2.05 0 2.83L4 21.41c.39.39.9.59 1.41.59.51 0 1.02-.2 1.41-.59l7.78-7.78 2.81-2.81c.8-.78.8-2.07 0-2.86zM5.41 20L4 18.59l7.72-7.72 1.47 1.35L5.41 20z\"/>\n",
              "  </svg>\n",
              "      </button>\n",
              "      \n",
              "  <style>\n",
              "    .colab-df-container {\n",
              "      display:flex;\n",
              "      flex-wrap:wrap;\n",
              "      gap: 12px;\n",
              "    }\n",
              "\n",
              "    .colab-df-convert {\n",
              "      background-color: #E8F0FE;\n",
              "      border: none;\n",
              "      border-radius: 50%;\n",
              "      cursor: pointer;\n",
              "      display: none;\n",
              "      fill: #1967D2;\n",
              "      height: 32px;\n",
              "      padding: 0 0 0 0;\n",
              "      width: 32px;\n",
              "    }\n",
              "\n",
              "    .colab-df-convert:hover {\n",
              "      background-color: #E2EBFA;\n",
              "      box-shadow: 0px 1px 2px rgba(60, 64, 67, 0.3), 0px 1px 3px 1px rgba(60, 64, 67, 0.15);\n",
              "      fill: #174EA6;\n",
              "    }\n",
              "\n",
              "    [theme=dark] .colab-df-convert {\n",
              "      background-color: #3B4455;\n",
              "      fill: #D2E3FC;\n",
              "    }\n",
              "\n",
              "    [theme=dark] .colab-df-convert:hover {\n",
              "      background-color: #434B5C;\n",
              "      box-shadow: 0px 1px 3px 1px rgba(0, 0, 0, 0.15);\n",
              "      filter: drop-shadow(0px 1px 2px rgba(0, 0, 0, 0.3));\n",
              "      fill: #FFFFFF;\n",
              "    }\n",
              "  </style>\n",
              "\n",
              "      <script>\n",
              "        const buttonEl =\n",
              "          document.querySelector('#df-4068d57e-eb64-4a76-ad11-94e0cc239b71 button.colab-df-convert');\n",
              "        buttonEl.style.display =\n",
              "          google.colab.kernel.accessAllowed ? 'block' : 'none';\n",
              "\n",
              "        async function convertToInteractive(key) {\n",
              "          const element = document.querySelector('#df-4068d57e-eb64-4a76-ad11-94e0cc239b71');\n",
              "          const dataTable =\n",
              "            await google.colab.kernel.invokeFunction('convertToInteractive',\n",
              "                                                     [key], {});\n",
              "          if (!dataTable) return;\n",
              "\n",
              "          const docLinkHtml = 'Like what you see? Visit the ' +\n",
              "            '<a target=\"_blank\" href=https://colab.research.google.com/notebooks/data_table.ipynb>data table notebook</a>'\n",
              "            + ' to learn more about interactive tables.';\n",
              "          element.innerHTML = '';\n",
              "          dataTable['output_type'] = 'display_data';\n",
              "          await google.colab.output.renderOutput(dataTable, element);\n",
              "          const docLink = document.createElement('div');\n",
              "          docLink.innerHTML = docLinkHtml;\n",
              "          element.appendChild(docLink);\n",
              "        }\n",
              "      </script>\n",
              "    </div>\n",
              "  </div>\n",
              "  "
            ]
          },
          "metadata": {},
          "execution_count": 69
        }
      ]
    },
    {
      "cell_type": "markdown",
      "source": [
        "## Nominal: Mean (target) encoding"
      ],
      "metadata": {
        "id": "TWx5UBK-oEyR"
      }
    },
    {
      "cell_type": "markdown",
      "source": [
        "\n",
        "What is Mean (target) Encoding? Target encoding involves replacing a categorical feature with its average target value for all data points belonging to the category. For each distinct element in x you’re going to compute the average of the corresponding values in y."
      ],
      "metadata": {
        "id": "rMA5a0EFooqK"
      }
    },
    {
      "cell_type": "markdown",
      "source": [
        "**Pro:** Picks up values that can explain the target.\n",
        "\n",
        "**Con:** Introduces likelihood of over-fitting. Relying on an average value isn’t always a good idea when the number of values used in the average is low. You’ve got to keep in mind that the dataset you’re training on is a sample of a larger set. Therefore, we’re over-fitting because we don’t have enough values to be sure that 0 is in fact the mean value of *y* when *x1* is equal to *d*. **To handle this:** A popular way is to use *cross-validation * and compute the means in each out-of-fold dataset."
      ],
      "metadata": {
        "id": "IbE0WZoSvQfB"
      }
    },
    {
      "cell_type": "code",
      "source": [
        "benz_df.head()"
      ],
      "metadata": {
        "id": "PLU27kHPpNf4"
      },
      "execution_count": null,
      "outputs": []
    },
    {
      "cell_type": "code",
      "source": [
        "benz_df.columns"
      ],
      "metadata": {
        "colab": {
          "base_uri": "https://localhost:8080/"
        },
        "id": "9VRb_L3RqRmm",
        "outputId": "15988ea0-b15b-487d-a67c-3d53185840fa"
      },
      "execution_count": 51,
      "outputs": [
        {
          "output_type": "execute_result",
          "data": {
            "text/plain": [
              "Index(['ID', 'y', 'X0', 'X1', 'X2', 'X3', 'X4', 'X5', 'X6', 'X8',\n",
              "       ...\n",
              "       'X375', 'X376', 'X377', 'X378', 'X379', 'X380', 'X382', 'X383', 'X384',\n",
              "       'X385'],\n",
              "      dtype='object', length=378)"
            ]
          },
          "metadata": {},
          "execution_count": 51
        }
      ]
    },
    {
      "cell_type": "code",
      "source": [
        "# Generate the mean values of X0\n",
        "benz_df['mean_ecX2'] = benz_df.groupby('X2')['y'].mean()"
      ],
      "metadata": {
        "id": "SNMSMlfJoG_-"
      },
      "execution_count": 59,
      "outputs": []
    },
    {
      "cell_type": "code",
      "source": [
        "benz_df.head()"
      ],
      "metadata": {
        "colab": {
          "base_uri": "https://localhost:8080/",
          "height": 235
        },
        "id": "wxIyGII9sKRf",
        "outputId": "ac54e5a1-e44c-4015-c7a1-1efdcd544d39"
      },
      "execution_count": 60,
      "outputs": [
        {
          "output_type": "execute_result",
          "data": {
            "text/plain": [
              "   ID       y  X0 X1  X2 X3 X4 X5 X6 X8  ...  X377  X378  X379  X380  X382  \\\n",
              "0   0  130.81   k  v  at  a  d  u  j  o  ...     1     0     0     0     0   \n",
              "1   6   88.53   k  t  av  e  d  y  l  o  ...     0     0     0     0     0   \n",
              "2   7   76.26  az  w   n  c  d  x  j  x  ...     0     0     0     0     1   \n",
              "3   9   80.62  az  t   n  f  d  x  l  e  ...     0     0     0     0     0   \n",
              "4  13   78.02  az  v   n  f  d  h  d  n  ...     0     0     0     0     0   \n",
              "\n",
              "   X383  X384  X385  mean_ecX0  mean_ecX2  \n",
              "0     0     0     0        NaN        NaN  \n",
              "1     0     0     0        NaN        NaN  \n",
              "2     0     0     0        NaN        NaN  \n",
              "3     0     0     0        NaN        NaN  \n",
              "4     0     0     0        NaN        NaN  \n",
              "\n",
              "[5 rows x 380 columns]"
            ],
            "text/html": [
              "\n",
              "  <div id=\"df-1da92378-e5d1-4339-bfcb-c051c2c85057\">\n",
              "    <div class=\"colab-df-container\">\n",
              "      <div>\n",
              "<style scoped>\n",
              "    .dataframe tbody tr th:only-of-type {\n",
              "        vertical-align: middle;\n",
              "    }\n",
              "\n",
              "    .dataframe tbody tr th {\n",
              "        vertical-align: top;\n",
              "    }\n",
              "\n",
              "    .dataframe thead th {\n",
              "        text-align: right;\n",
              "    }\n",
              "</style>\n",
              "<table border=\"1\" class=\"dataframe\">\n",
              "  <thead>\n",
              "    <tr style=\"text-align: right;\">\n",
              "      <th></th>\n",
              "      <th>ID</th>\n",
              "      <th>y</th>\n",
              "      <th>X0</th>\n",
              "      <th>X1</th>\n",
              "      <th>X2</th>\n",
              "      <th>X3</th>\n",
              "      <th>X4</th>\n",
              "      <th>X5</th>\n",
              "      <th>X6</th>\n",
              "      <th>X8</th>\n",
              "      <th>...</th>\n",
              "      <th>X377</th>\n",
              "      <th>X378</th>\n",
              "      <th>X379</th>\n",
              "      <th>X380</th>\n",
              "      <th>X382</th>\n",
              "      <th>X383</th>\n",
              "      <th>X384</th>\n",
              "      <th>X385</th>\n",
              "      <th>mean_ecX0</th>\n",
              "      <th>mean_ecX2</th>\n",
              "    </tr>\n",
              "  </thead>\n",
              "  <tbody>\n",
              "    <tr>\n",
              "      <th>0</th>\n",
              "      <td>0</td>\n",
              "      <td>130.81</td>\n",
              "      <td>k</td>\n",
              "      <td>v</td>\n",
              "      <td>at</td>\n",
              "      <td>a</td>\n",
              "      <td>d</td>\n",
              "      <td>u</td>\n",
              "      <td>j</td>\n",
              "      <td>o</td>\n",
              "      <td>...</td>\n",
              "      <td>1</td>\n",
              "      <td>0</td>\n",
              "      <td>0</td>\n",
              "      <td>0</td>\n",
              "      <td>0</td>\n",
              "      <td>0</td>\n",
              "      <td>0</td>\n",
              "      <td>0</td>\n",
              "      <td>NaN</td>\n",
              "      <td>NaN</td>\n",
              "    </tr>\n",
              "    <tr>\n",
              "      <th>1</th>\n",
              "      <td>6</td>\n",
              "      <td>88.53</td>\n",
              "      <td>k</td>\n",
              "      <td>t</td>\n",
              "      <td>av</td>\n",
              "      <td>e</td>\n",
              "      <td>d</td>\n",
              "      <td>y</td>\n",
              "      <td>l</td>\n",
              "      <td>o</td>\n",
              "      <td>...</td>\n",
              "      <td>0</td>\n",
              "      <td>0</td>\n",
              "      <td>0</td>\n",
              "      <td>0</td>\n",
              "      <td>0</td>\n",
              "      <td>0</td>\n",
              "      <td>0</td>\n",
              "      <td>0</td>\n",
              "      <td>NaN</td>\n",
              "      <td>NaN</td>\n",
              "    </tr>\n",
              "    <tr>\n",
              "      <th>2</th>\n",
              "      <td>7</td>\n",
              "      <td>76.26</td>\n",
              "      <td>az</td>\n",
              "      <td>w</td>\n",
              "      <td>n</td>\n",
              "      <td>c</td>\n",
              "      <td>d</td>\n",
              "      <td>x</td>\n",
              "      <td>j</td>\n",
              "      <td>x</td>\n",
              "      <td>...</td>\n",
              "      <td>0</td>\n",
              "      <td>0</td>\n",
              "      <td>0</td>\n",
              "      <td>0</td>\n",
              "      <td>1</td>\n",
              "      <td>0</td>\n",
              "      <td>0</td>\n",
              "      <td>0</td>\n",
              "      <td>NaN</td>\n",
              "      <td>NaN</td>\n",
              "    </tr>\n",
              "    <tr>\n",
              "      <th>3</th>\n",
              "      <td>9</td>\n",
              "      <td>80.62</td>\n",
              "      <td>az</td>\n",
              "      <td>t</td>\n",
              "      <td>n</td>\n",
              "      <td>f</td>\n",
              "      <td>d</td>\n",
              "      <td>x</td>\n",
              "      <td>l</td>\n",
              "      <td>e</td>\n",
              "      <td>...</td>\n",
              "      <td>0</td>\n",
              "      <td>0</td>\n",
              "      <td>0</td>\n",
              "      <td>0</td>\n",
              "      <td>0</td>\n",
              "      <td>0</td>\n",
              "      <td>0</td>\n",
              "      <td>0</td>\n",
              "      <td>NaN</td>\n",
              "      <td>NaN</td>\n",
              "    </tr>\n",
              "    <tr>\n",
              "      <th>4</th>\n",
              "      <td>13</td>\n",
              "      <td>78.02</td>\n",
              "      <td>az</td>\n",
              "      <td>v</td>\n",
              "      <td>n</td>\n",
              "      <td>f</td>\n",
              "      <td>d</td>\n",
              "      <td>h</td>\n",
              "      <td>d</td>\n",
              "      <td>n</td>\n",
              "      <td>...</td>\n",
              "      <td>0</td>\n",
              "      <td>0</td>\n",
              "      <td>0</td>\n",
              "      <td>0</td>\n",
              "      <td>0</td>\n",
              "      <td>0</td>\n",
              "      <td>0</td>\n",
              "      <td>0</td>\n",
              "      <td>NaN</td>\n",
              "      <td>NaN</td>\n",
              "    </tr>\n",
              "  </tbody>\n",
              "</table>\n",
              "<p>5 rows × 380 columns</p>\n",
              "</div>\n",
              "      <button class=\"colab-df-convert\" onclick=\"convertToInteractive('df-1da92378-e5d1-4339-bfcb-c051c2c85057')\"\n",
              "              title=\"Convert this dataframe to an interactive table.\"\n",
              "              style=\"display:none;\">\n",
              "        \n",
              "  <svg xmlns=\"http://www.w3.org/2000/svg\" height=\"24px\"viewBox=\"0 0 24 24\"\n",
              "       width=\"24px\">\n",
              "    <path d=\"M0 0h24v24H0V0z\" fill=\"none\"/>\n",
              "    <path d=\"M18.56 5.44l.94 2.06.94-2.06 2.06-.94-2.06-.94-.94-2.06-.94 2.06-2.06.94zm-11 1L8.5 8.5l.94-2.06 2.06-.94-2.06-.94L8.5 2.5l-.94 2.06-2.06.94zm10 10l.94 2.06.94-2.06 2.06-.94-2.06-.94-.94-2.06-.94 2.06-2.06.94z\"/><path d=\"M17.41 7.96l-1.37-1.37c-.4-.4-.92-.59-1.43-.59-.52 0-1.04.2-1.43.59L10.3 9.45l-7.72 7.72c-.78.78-.78 2.05 0 2.83L4 21.41c.39.39.9.59 1.41.59.51 0 1.02-.2 1.41-.59l7.78-7.78 2.81-2.81c.8-.78.8-2.07 0-2.86zM5.41 20L4 18.59l7.72-7.72 1.47 1.35L5.41 20z\"/>\n",
              "  </svg>\n",
              "      </button>\n",
              "      \n",
              "  <style>\n",
              "    .colab-df-container {\n",
              "      display:flex;\n",
              "      flex-wrap:wrap;\n",
              "      gap: 12px;\n",
              "    }\n",
              "\n",
              "    .colab-df-convert {\n",
              "      background-color: #E8F0FE;\n",
              "      border: none;\n",
              "      border-radius: 50%;\n",
              "      cursor: pointer;\n",
              "      display: none;\n",
              "      fill: #1967D2;\n",
              "      height: 32px;\n",
              "      padding: 0 0 0 0;\n",
              "      width: 32px;\n",
              "    }\n",
              "\n",
              "    .colab-df-convert:hover {\n",
              "      background-color: #E2EBFA;\n",
              "      box-shadow: 0px 1px 2px rgba(60, 64, 67, 0.3), 0px 1px 3px 1px rgba(60, 64, 67, 0.15);\n",
              "      fill: #174EA6;\n",
              "    }\n",
              "\n",
              "    [theme=dark] .colab-df-convert {\n",
              "      background-color: #3B4455;\n",
              "      fill: #D2E3FC;\n",
              "    }\n",
              "\n",
              "    [theme=dark] .colab-df-convert:hover {\n",
              "      background-color: #434B5C;\n",
              "      box-shadow: 0px 1px 3px 1px rgba(0, 0, 0, 0.15);\n",
              "      filter: drop-shadow(0px 1px 2px rgba(0, 0, 0, 0.3));\n",
              "      fill: #FFFFFF;\n",
              "    }\n",
              "  </style>\n",
              "\n",
              "      <script>\n",
              "        const buttonEl =\n",
              "          document.querySelector('#df-1da92378-e5d1-4339-bfcb-c051c2c85057 button.colab-df-convert');\n",
              "        buttonEl.style.display =\n",
              "          google.colab.kernel.accessAllowed ? 'block' : 'none';\n",
              "\n",
              "        async function convertToInteractive(key) {\n",
              "          const element = document.querySelector('#df-1da92378-e5d1-4339-bfcb-c051c2c85057');\n",
              "          const dataTable =\n",
              "            await google.colab.kernel.invokeFunction('convertToInteractive',\n",
              "                                                     [key], {});\n",
              "          if (!dataTable) return;\n",
              "\n",
              "          const docLinkHtml = 'Like what you see? Visit the ' +\n",
              "            '<a target=\"_blank\" href=https://colab.research.google.com/notebooks/data_table.ipynb>data table notebook</a>'\n",
              "            + ' to learn more about interactive tables.';\n",
              "          element.innerHTML = '';\n",
              "          dataTable['output_type'] = 'display_data';\n",
              "          await google.colab.output.renderOutput(dataTable, element);\n",
              "          const docLink = document.createElement('div');\n",
              "          docLink.innerHTML = docLinkHtml;\n",
              "          element.appendChild(docLink);\n",
              "        }\n",
              "      </script>\n",
              "    </div>\n",
              "  </div>\n",
              "  "
            ]
          },
          "metadata": {},
          "execution_count": 60
        }
      ]
    }
  ]
}